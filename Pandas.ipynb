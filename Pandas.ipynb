{
 "cells": [
  {
   "cell_type": "code",
   "execution_count": 1,
   "id": "eb8701b1",
   "metadata": {},
   "outputs": [],
   "source": [
    "import numpy as np"
   ]
  },
  {
   "cell_type": "code",
   "execution_count": 2,
   "id": "c2c1d429",
   "metadata": {},
   "outputs": [],
   "source": [
    "my_numpy_array = np.random.rand(3)"
   ]
  },
  {
   "cell_type": "code",
   "execution_count": 3,
   "id": "7a0c2c3e",
   "metadata": {},
   "outputs": [
    {
     "data": {
      "text/plain": [
       "numpy.ndarray"
      ]
     },
     "execution_count": 3,
     "metadata": {},
     "output_type": "execute_result"
    }
   ],
   "source": [
    "type(my_numpy_array)"
   ]
  },
  {
   "cell_type": "code",
   "execution_count": 4,
   "id": "6e4a7465",
   "metadata": {},
   "outputs": [
    {
     "data": {
      "text/plain": [
       "0.9105238761105684"
      ]
     },
     "execution_count": 4,
     "metadata": {},
     "output_type": "execute_result"
    }
   ],
   "source": [
    "my_numpy_array[0]"
   ]
  },
  {
   "cell_type": "code",
   "execution_count": 5,
   "id": "c6d96a5f",
   "metadata": {},
   "outputs": [],
   "source": [
    "import pandas as pd"
   ]
  },
  {
   "cell_type": "code",
   "execution_count": 6,
   "id": "c4b7fef0",
   "metadata": {},
   "outputs": [
    {
     "data": {
      "text/plain": [
       "First     0.910524\n",
       "Second    0.292995\n",
       "Third     0.664726\n",
       "dtype: float64"
      ]
     },
     "execution_count": 6,
     "metadata": {},
     "output_type": "execute_result"
    }
   ],
   "source": [
    "my_series = pd.Series(my_numpy_array, index=[\"First\", \"Second\", \"Third\"])\n",
    "my_series"
   ]
  },
  {
   "cell_type": "code",
   "execution_count": 7,
   "id": "988213a1",
   "metadata": {},
   "outputs": [
    {
     "data": {
      "text/plain": [
       "0.9105238761105684"
      ]
     },
     "execution_count": 7,
     "metadata": {},
     "output_type": "execute_result"
    }
   ],
   "source": [
    "my_series[0]"
   ]
  },
  {
   "cell_type": "code",
   "execution_count": 8,
   "id": "449d973c",
   "metadata": {},
   "outputs": [
    {
     "data": {
      "text/plain": [
       "Index(['First', 'Second', 'Third'], dtype='object')"
      ]
     },
     "execution_count": 8,
     "metadata": {},
     "output_type": "execute_result"
    }
   ],
   "source": [
    "my_series.index"
   ]
  },
  {
   "cell_type": "code",
   "execution_count": 9,
   "id": "c328ce77",
   "metadata": {},
   "outputs": [],
   "source": [
    "array_2d = np.random.rand(3,2)"
   ]
  },
  {
   "cell_type": "code",
   "execution_count": 10,
   "id": "facca32f",
   "metadata": {},
   "outputs": [
    {
     "data": {
      "text/plain": [
       "0.8999550237594672"
      ]
     },
     "execution_count": 10,
     "metadata": {},
     "output_type": "execute_result"
    }
   ],
   "source": [
    "array_2d[0,1]"
   ]
  },
  {
   "cell_type": "code",
   "execution_count": 11,
   "id": "26f62594",
   "metadata": {},
   "outputs": [],
   "source": [
    "df = pd.DataFrame(array_2d)"
   ]
  },
  {
   "cell_type": "code",
   "execution_count": 12,
   "id": "c8d60072",
   "metadata": {},
   "outputs": [
    {
     "data": {
      "text/html": [
       "<div>\n",
       "<style scoped>\n",
       "    .dataframe tbody tr th:only-of-type {\n",
       "        vertical-align: middle;\n",
       "    }\n",
       "\n",
       "    .dataframe tbody tr th {\n",
       "        vertical-align: top;\n",
       "    }\n",
       "\n",
       "    .dataframe thead th {\n",
       "        text-align: right;\n",
       "    }\n",
       "</style>\n",
       "<table border=\"1\" class=\"dataframe\">\n",
       "  <thead>\n",
       "    <tr style=\"text-align: right;\">\n",
       "      <th></th>\n",
       "      <th>0</th>\n",
       "      <th>1</th>\n",
       "    </tr>\n",
       "  </thead>\n",
       "  <tbody>\n",
       "    <tr>\n",
       "      <th>0</th>\n",
       "      <td>0.322783</td>\n",
       "      <td>0.899955</td>\n",
       "    </tr>\n",
       "    <tr>\n",
       "      <th>1</th>\n",
       "      <td>0.786874</td>\n",
       "      <td>0.001156</td>\n",
       "    </tr>\n",
       "    <tr>\n",
       "      <th>2</th>\n",
       "      <td>0.134721</td>\n",
       "      <td>0.212001</td>\n",
       "    </tr>\n",
       "  </tbody>\n",
       "</table>\n",
       "</div>"
      ],
      "text/plain": [
       "          0         1\n",
       "0  0.322783  0.899955\n",
       "1  0.786874  0.001156\n",
       "2  0.134721  0.212001"
      ]
     },
     "execution_count": 12,
     "metadata": {},
     "output_type": "execute_result"
    }
   ],
   "source": [
    "df"
   ]
  },
  {
   "cell_type": "code",
   "execution_count": 13,
   "id": "5c80c1b3",
   "metadata": {},
   "outputs": [
    {
     "data": {
      "text/plain": [
       "RangeIndex(start=0, stop=2, step=1)"
      ]
     },
     "execution_count": 13,
     "metadata": {},
     "output_type": "execute_result"
    }
   ],
   "source": [
    "df.columns"
   ]
  },
  {
   "cell_type": "code",
   "execution_count": 14,
   "id": "ee692963",
   "metadata": {},
   "outputs": [],
   "source": [
    "df.columns = [\"First\", \"Second\"]"
   ]
  },
  {
   "cell_type": "code",
   "execution_count": 15,
   "id": "53748770",
   "metadata": {},
   "outputs": [
    {
     "data": {
      "text/html": [
       "<div>\n",
       "<style scoped>\n",
       "    .dataframe tbody tr th:only-of-type {\n",
       "        vertical-align: middle;\n",
       "    }\n",
       "\n",
       "    .dataframe tbody tr th {\n",
       "        vertical-align: top;\n",
       "    }\n",
       "\n",
       "    .dataframe thead th {\n",
       "        text-align: right;\n",
       "    }\n",
       "</style>\n",
       "<table border=\"1\" class=\"dataframe\">\n",
       "  <thead>\n",
       "    <tr style=\"text-align: right;\">\n",
       "      <th></th>\n",
       "      <th>First</th>\n",
       "      <th>Second</th>\n",
       "    </tr>\n",
       "  </thead>\n",
       "  <tbody>\n",
       "    <tr>\n",
       "      <th>0</th>\n",
       "      <td>0.322783</td>\n",
       "      <td>0.899955</td>\n",
       "    </tr>\n",
       "    <tr>\n",
       "      <th>1</th>\n",
       "      <td>0.786874</td>\n",
       "      <td>0.001156</td>\n",
       "    </tr>\n",
       "    <tr>\n",
       "      <th>2</th>\n",
       "      <td>0.134721</td>\n",
       "      <td>0.212001</td>\n",
       "    </tr>\n",
       "  </tbody>\n",
       "</table>\n",
       "</div>"
      ],
      "text/plain": [
       "      First    Second\n",
       "0  0.322783  0.899955\n",
       "1  0.786874  0.001156\n",
       "2  0.134721  0.212001"
      ]
     },
     "execution_count": 15,
     "metadata": {},
     "output_type": "execute_result"
    }
   ],
   "source": [
    "df"
   ]
  },
  {
   "cell_type": "code",
   "execution_count": 16,
   "id": "efc71095",
   "metadata": {},
   "outputs": [
    {
     "data": {
      "text/plain": [
       "0    0.899955\n",
       "1    0.001156\n",
       "2    0.212001\n",
       "Name: Second, dtype: float64"
      ]
     },
     "execution_count": 16,
     "metadata": {},
     "output_type": "execute_result"
    }
   ],
   "source": [
    "df[\"Second\"]"
   ]
  },
  {
   "cell_type": "code",
   "execution_count": 17,
   "id": "43f8f592",
   "metadata": {},
   "outputs": [],
   "source": [
    "# read the first 5 rows\n",
    "#df = pd.read_csv('artwork_data.csv')\n",
    "\n",
    "# All columns we are using\n",
    "COLS_TO_USE = ['id', 'artist',\n",
    "                  'title', 'medium', 'year', 'acquisitionYear', 'height',\n",
    "                  'width', 'units']"
   ]
  },
  {
   "cell_type": "code",
   "execution_count": 18,
   "id": "29084412",
   "metadata": {},
   "outputs": [
    {
     "name": "stderr",
     "output_type": "stream",
     "text": [
      "C:\\Users\\wuamy\\AppData\\Local\\Temp\\ipykernel_13704\\260144216.py:1: DtypeWarning: Columns (9,13) have mixed types. Specify dtype option on import or set low_memory=False.\n",
      "  df=pd.read_csv('artwork_data.csv',index_col='id',\n"
     ]
    },
    {
     "data": {
      "text/html": [
       "<div>\n",
       "<style scoped>\n",
       "    .dataframe tbody tr th:only-of-type {\n",
       "        vertical-align: middle;\n",
       "    }\n",
       "\n",
       "    .dataframe tbody tr th {\n",
       "        vertical-align: top;\n",
       "    }\n",
       "\n",
       "    .dataframe thead th {\n",
       "        text-align: right;\n",
       "    }\n",
       "</style>\n",
       "<table border=\"1\" class=\"dataframe\">\n",
       "  <thead>\n",
       "    <tr style=\"text-align: right;\">\n",
       "      <th></th>\n",
       "      <th>artist</th>\n",
       "      <th>title</th>\n",
       "      <th>medium</th>\n",
       "      <th>year</th>\n",
       "      <th>acquisitionYear</th>\n",
       "      <th>width</th>\n",
       "      <th>height</th>\n",
       "      <th>units</th>\n",
       "    </tr>\n",
       "    <tr>\n",
       "      <th>id</th>\n",
       "      <th></th>\n",
       "      <th></th>\n",
       "      <th></th>\n",
       "      <th></th>\n",
       "      <th></th>\n",
       "      <th></th>\n",
       "      <th></th>\n",
       "      <th></th>\n",
       "    </tr>\n",
       "  </thead>\n",
       "  <tbody>\n",
       "    <tr>\n",
       "      <th>1035</th>\n",
       "      <td>Blake, Robert</td>\n",
       "      <td>A Figure Bowing before a Seated Old Man with h...</td>\n",
       "      <td>Watercolour, ink, chalk and graphite on paper....</td>\n",
       "      <td>NaN</td>\n",
       "      <td>1922.0</td>\n",
       "      <td>394</td>\n",
       "      <td>419.0</td>\n",
       "      <td>mm</td>\n",
       "    </tr>\n",
       "    <tr>\n",
       "      <th>1036</th>\n",
       "      <td>Blake, Robert</td>\n",
       "      <td>Two Drawings of Frightened Figures, Probably f...</td>\n",
       "      <td>Graphite on paper</td>\n",
       "      <td>NaN</td>\n",
       "      <td>1922.0</td>\n",
       "      <td>311</td>\n",
       "      <td>213.0</td>\n",
       "      <td>mm</td>\n",
       "    </tr>\n",
       "    <tr>\n",
       "      <th>1037</th>\n",
       "      <td>Blake, Robert</td>\n",
       "      <td>The Preaching of Warning. Verso: An Old Man En...</td>\n",
       "      <td>Graphite on paper. Verso: graphite on paper</td>\n",
       "      <td>1785.0</td>\n",
       "      <td>1922.0</td>\n",
       "      <td>343</td>\n",
       "      <td>467.0</td>\n",
       "      <td>mm</td>\n",
       "    </tr>\n",
       "    <tr>\n",
       "      <th>1038</th>\n",
       "      <td>Blake, Robert</td>\n",
       "      <td>Six Drawings of Figures with Outstretched Arms</td>\n",
       "      <td>Graphite on paper</td>\n",
       "      <td>NaN</td>\n",
       "      <td>1922.0</td>\n",
       "      <td>318</td>\n",
       "      <td>394.0</td>\n",
       "      <td>mm</td>\n",
       "    </tr>\n",
       "    <tr>\n",
       "      <th>1039</th>\n",
       "      <td>Blake, William</td>\n",
       "      <td>The Circle of the Lustful: Francesca da Rimini...</td>\n",
       "      <td>Line engraving on paper</td>\n",
       "      <td>1826.0</td>\n",
       "      <td>1919.0</td>\n",
       "      <td>243</td>\n",
       "      <td>335.0</td>\n",
       "      <td>mm</td>\n",
       "    </tr>\n",
       "    <tr>\n",
       "      <th>...</th>\n",
       "      <td>...</td>\n",
       "      <td>...</td>\n",
       "      <td>...</td>\n",
       "      <td>...</td>\n",
       "      <td>...</td>\n",
       "      <td>...</td>\n",
       "      <td>...</td>\n",
       "      <td>...</td>\n",
       "    </tr>\n",
       "    <tr>\n",
       "      <th>122960</th>\n",
       "      <td>P-Orridge, Genesis</td>\n",
       "      <td>Larvae (from Tampax Romana)</td>\n",
       "      <td>Perspex, Wood, hairpiece, tampon and human blood</td>\n",
       "      <td>1975</td>\n",
       "      <td>2013.0</td>\n",
       "      <td>305</td>\n",
       "      <td>305.0</td>\n",
       "      <td>mm</td>\n",
       "    </tr>\n",
       "    <tr>\n",
       "      <th>122961</th>\n",
       "      <td>P-Orridge, Genesis</td>\n",
       "      <td>Living Womb (from Tampax Romana)</td>\n",
       "      <td>Wood, Perspex, plastic, photograph on paper, t...</td>\n",
       "      <td>1976</td>\n",
       "      <td>2013.0</td>\n",
       "      <td>305</td>\n",
       "      <td>305.0</td>\n",
       "      <td>mm</td>\n",
       "    </tr>\n",
       "    <tr>\n",
       "      <th>121181</th>\n",
       "      <td>Hatoum, Mona</td>\n",
       "      <td>Present Tense</td>\n",
       "      <td>Soap and glass beads</td>\n",
       "      <td>1996</td>\n",
       "      <td>2013.0</td>\n",
       "      <td>45</td>\n",
       "      <td>2410.0</td>\n",
       "      <td>mm</td>\n",
       "    </tr>\n",
       "    <tr>\n",
       "      <th>112306</th>\n",
       "      <td>Creed, Martin</td>\n",
       "      <td>Work No. 227: The lights going on and off</td>\n",
       "      <td>Gallery lighting</td>\n",
       "      <td>2000</td>\n",
       "      <td>2013.0</td>\n",
       "      <td>NaN</td>\n",
       "      <td>NaN</td>\n",
       "      <td>NaN</td>\n",
       "    </tr>\n",
       "    <tr>\n",
       "      <th>127035</th>\n",
       "      <td>Brunias, Agostino</td>\n",
       "      <td>Dancing Scene in the West Indies</td>\n",
       "      <td>Oil paint on canvas</td>\n",
       "      <td>1764</td>\n",
       "      <td>2013.0</td>\n",
       "      <td>508</td>\n",
       "      <td>660.0</td>\n",
       "      <td>mm</td>\n",
       "    </tr>\n",
       "  </tbody>\n",
       "</table>\n",
       "<p>69201 rows × 8 columns</p>\n",
       "</div>"
      ],
      "text/plain": [
       "                    artist                                              title  \\\n",
       "id                                                                              \n",
       "1035         Blake, Robert  A Figure Bowing before a Seated Old Man with h...   \n",
       "1036         Blake, Robert  Two Drawings of Frightened Figures, Probably f...   \n",
       "1037         Blake, Robert  The Preaching of Warning. Verso: An Old Man En...   \n",
       "1038         Blake, Robert     Six Drawings of Figures with Outstretched Arms   \n",
       "1039        Blake, William  The Circle of the Lustful: Francesca da Rimini...   \n",
       "...                    ...                                                ...   \n",
       "122960  P-Orridge, Genesis                        Larvae (from Tampax Romana)   \n",
       "122961  P-Orridge, Genesis                   Living Womb (from Tampax Romana)   \n",
       "121181        Hatoum, Mona                                      Present Tense   \n",
       "112306       Creed, Martin          Work No. 227: The lights going on and off   \n",
       "127035   Brunias, Agostino                   Dancing Scene in the West Indies   \n",
       "\n",
       "                                                   medium    year  \\\n",
       "id                                                                  \n",
       "1035    Watercolour, ink, chalk and graphite on paper....     NaN   \n",
       "1036                                    Graphite on paper     NaN   \n",
       "1037          Graphite on paper. Verso: graphite on paper  1785.0   \n",
       "1038                                    Graphite on paper     NaN   \n",
       "1039                              Line engraving on paper  1826.0   \n",
       "...                                                   ...     ...   \n",
       "122960   Perspex, Wood, hairpiece, tampon and human blood    1975   \n",
       "122961  Wood, Perspex, plastic, photograph on paper, t...    1976   \n",
       "121181                               Soap and glass beads    1996   \n",
       "112306                                   Gallery lighting    2000   \n",
       "127035                                Oil paint on canvas    1764   \n",
       "\n",
       "        acquisitionYear width  height units  \n",
       "id                                           \n",
       "1035             1922.0   394   419.0    mm  \n",
       "1036             1922.0   311   213.0    mm  \n",
       "1037             1922.0   343   467.0    mm  \n",
       "1038             1922.0   318   394.0    mm  \n",
       "1039             1919.0   243   335.0    mm  \n",
       "...                 ...   ...     ...   ...  \n",
       "122960           2013.0   305   305.0    mm  \n",
       "122961           2013.0   305   305.0    mm  \n",
       "121181           2013.0    45  2410.0    mm  \n",
       "112306           2013.0   NaN     NaN   NaN  \n",
       "127035           2013.0   508   660.0    mm  \n",
       "\n",
       "[69201 rows x 8 columns]"
      ]
     },
     "execution_count": 18,
     "metadata": {},
     "output_type": "execute_result"
    }
   ],
   "source": [
    "df=pd.read_csv('artwork_data.csv',index_col='id',\n",
    "                usecols=COLS_TO_USE)\n",
    "df"
   ]
  },
  {
   "cell_type": "code",
   "execution_count": 19,
   "id": "5cda9596",
   "metadata": {},
   "outputs": [],
   "source": [
    "import json"
   ]
  },
  {
   "cell_type": "code",
   "execution_count": 20,
   "id": "e4f64962",
   "metadata": {},
   "outputs": [
    {
     "data": {
      "text/html": [
       "<div>\n",
       "<style scoped>\n",
       "    .dataframe tbody tr th:only-of-type {\n",
       "        vertical-align: middle;\n",
       "    }\n",
       "\n",
       "    .dataframe tbody tr th {\n",
       "        vertical-align: top;\n",
       "    }\n",
       "\n",
       "    .dataframe thead th {\n",
       "        text-align: right;\n",
       "    }\n",
       "</style>\n",
       "<table border=\"1\" class=\"dataframe\">\n",
       "  <thead>\n",
       "    <tr style=\"text-align: right;\">\n",
       "      <th></th>\n",
       "      <th>Coffee</th>\n",
       "      <th>Price</th>\n",
       "    </tr>\n",
       "  </thead>\n",
       "  <tbody>\n",
       "    <tr>\n",
       "      <th>0</th>\n",
       "      <td>Espresso</td>\n",
       "      <td>5$</td>\n",
       "    </tr>\n",
       "    <tr>\n",
       "      <th>1</th>\n",
       "      <td>Flat White</td>\n",
       "      <td>10$</td>\n",
       "    </tr>\n",
       "  </tbody>\n",
       "</table>\n",
       "</div>"
      ],
      "text/plain": [
       "       Coffee Price\n",
       "0    Espresso    5$\n",
       "1  Flat White   10$"
      ]
     },
     "execution_count": 20,
     "metadata": {},
     "output_type": "execute_result"
    }
   ],
   "source": [
    "#example usage of from_records method\n",
    "records = [(\"Espresso\", '5$'),\n",
    "          (\"Flat White\", \"10$\")]\n",
    "pd.DataFrame.from_records(records)\n",
    "pd.DataFrame.from_records(records,\n",
    "                         columns=[\"Coffee\", \"Price\"])\n"
   ]
  },
  {
   "cell_type": "code",
   "execution_count": 21,
   "id": "9a9f1eb4",
   "metadata": {},
   "outputs": [],
   "source": [
    "# import json \n",
    "KEYS_TO_USE = ['id', 'all_artists',\n",
    "                  'title', 'medium', 'dateText', 'acquisitionYear', 'height',\n",
    "                  'width', 'units']\n",
    "def get_record_from_file(file_path, KEYS_TO_USE):\n",
    "    with open(file_path) as artwork_file:\n",
    "        content = json.load(artwork_file)\n",
    "    \n",
    "    record = []\n",
    "    for field in KEYS_TO_USE:\n",
    "        record.append(content[field])\n",
    "    return tuple(record)\n",
    "\n",
    "# single file processing\n",
    "sample_record = get_record_from_file('a00001-1035.json', KEYS_TO_USE)"
   ]
  },
  {
   "cell_type": "code",
   "execution_count": 22,
   "id": "09311da0",
   "metadata": {},
   "outputs": [
    {
     "data": {
      "text/plain": [
       "(1035,\n",
       " 'Robert Blake',\n",
       " 'A Figure Bowing before a Seated Old Man with his Arm Outstretched in Benediction. Verso: Indecipherable Sketch',\n",
       " 'Watercolour, ink, chalk and graphite on paper. Verso: graphite on paper',\n",
       " 'date not known',\n",
       " 1922,\n",
       " '419',\n",
       " '394',\n",
       " 'mm')"
      ]
     },
     "execution_count": 22,
     "metadata": {},
     "output_type": "execute_result"
    }
   ],
   "source": [
    "sample_record"
   ]
  },
  {
   "cell_type": "code",
   "execution_count": 23,
   "id": "bd0bbb57",
   "metadata": {},
   "outputs": [
    {
     "data": {
      "text/plain": [
       "3336"
      ]
     },
     "execution_count": 23,
     "metadata": {},
     "output_type": "execute_result"
    }
   ],
   "source": [
    "# Demo1\n",
    "df.artist\n",
    "artists = df['artist']\n",
    "pd.unique(artists)\n",
    "len(pd.unique(artists))"
   ]
  },
  {
   "cell_type": "code",
   "execution_count": 24,
   "id": "4b3ab312",
   "metadata": {},
   "outputs": [
    {
     "data": {
      "text/plain": [
       "False    69151\n",
       "True        50\n",
       "Name: artist, dtype: int64"
      ]
     },
     "execution_count": 24,
     "metadata": {},
     "output_type": "execute_result"
    }
   ],
   "source": [
    "# demo 2\n",
    "s = df['artist']=='Bacon, Francis'\n",
    "s.value_counts()"
   ]
  },
  {
   "cell_type": "code",
   "execution_count": 25,
   "id": "2ee591f2",
   "metadata": {},
   "outputs": [
    {
     "data": {
      "text/plain": [
       "50"
      ]
     },
     "execution_count": 25,
     "metadata": {},
     "output_type": "execute_result"
    }
   ],
   "source": [
    "# other way\n",
    "artist_counts = df['artist'].value_counts()\n",
    "artist_counts['Bacon, Francis']"
   ]
  },
  {
   "cell_type": "code",
   "execution_count": 26,
   "id": "62f70971",
   "metadata": {},
   "outputs": [
    {
     "data": {
      "text/html": [
       "<div>\n",
       "<style scoped>\n",
       "    .dataframe tbody tr th:only-of-type {\n",
       "        vertical-align: middle;\n",
       "    }\n",
       "\n",
       "    .dataframe tbody tr th {\n",
       "        vertical-align: top;\n",
       "    }\n",
       "\n",
       "    .dataframe thead th {\n",
       "        text-align: right;\n",
       "    }\n",
       "</style>\n",
       "<table border=\"1\" class=\"dataframe\">\n",
       "  <thead>\n",
       "    <tr style=\"text-align: right;\">\n",
       "      <th></th>\n",
       "      <th>artist</th>\n",
       "      <th>title</th>\n",
       "    </tr>\n",
       "    <tr>\n",
       "      <th>id</th>\n",
       "      <th></th>\n",
       "      <th></th>\n",
       "    </tr>\n",
       "  </thead>\n",
       "  <tbody>\n",
       "    <tr>\n",
       "      <th>1035</th>\n",
       "      <td>Blake, Robert</td>\n",
       "      <td>A Figure Bowing before a Seated Old Man with h...</td>\n",
       "    </tr>\n",
       "    <tr>\n",
       "      <th>1036</th>\n",
       "      <td>Blake, Robert</td>\n",
       "      <td>Two Drawings of Frightened Figures, Probably f...</td>\n",
       "    </tr>\n",
       "  </tbody>\n",
       "</table>\n",
       "</div>"
      ],
      "text/plain": [
       "             artist                                              title\n",
       "id                                                                    \n",
       "1035  Blake, Robert  A Figure Bowing before a Seated Old Man with h...\n",
       "1036  Blake, Robert  Two Drawings of Frightened Figures, Probably f..."
      ]
     },
     "execution_count": 26,
     "metadata": {},
     "output_type": "execute_result"
    }
   ],
   "source": [
    "# demo 3\n",
    "df.loc[1035, 'artist']\n",
    "#df.iloc[0, 0]\n",
    "#df.iloc[0, :]\n",
    "df.iloc[0:2, 0:2]"
   ]
  },
  {
   "cell_type": "code",
   "execution_count": 27,
   "id": "134167bd",
   "metadata": {},
   "outputs": [
    {
     "data": {
      "text/plain": [
       "(69201, 8)"
      ]
     },
     "execution_count": 27,
     "metadata": {},
     "output_type": "execute_result"
    }
   ],
   "source": [
    "# try multipliation\n",
    "#df['height'] * df['width']\n",
    "df.shape\n"
   ]
  },
  {
   "cell_type": "code",
   "execution_count": 28,
   "id": "9614ec5d",
   "metadata": {},
   "outputs": [
    {
     "name": "stdout",
     "output_type": "stream",
     "text": [
      "<class 'pandas.core.frame.DataFrame'>\n",
      "Int64Index: 69201 entries, 1035 to 127035\n",
      "Data columns (total 8 columns):\n",
      " #   Column           Non-Null Count  Dtype  \n",
      "---  ------           --------------  -----  \n",
      " 0   artist           69201 non-null  object \n",
      " 1   title            69201 non-null  object \n",
      " 2   medium           62817 non-null  object \n",
      " 3   year             63823 non-null  object \n",
      " 4   acquisitionYear  69156 non-null  float64\n",
      " 5   width            65860 non-null  object \n",
      " 6   height           65860 non-null  object \n",
      " 7   units            65860 non-null  object \n",
      "dtypes: float64(1), object(7)\n",
      "memory usage: 6.8+ MB\n"
     ]
    }
   ],
   "source": [
    "df.info()"
   ]
  },
  {
   "cell_type": "code",
   "execution_count": 29,
   "id": "65b1cb20",
   "metadata": {},
   "outputs": [
    {
     "data": {
      "text/plain": [
       "pandas.core.series.Series"
      ]
     },
     "execution_count": 29,
     "metadata": {},
     "output_type": "execute_result"
    }
   ],
   "source": [
    "#df['width'].astype(float) * df['height'].astype(float)\n",
    "df['width'].sort_values().head()\n",
    "df['width'].sort_values().tail()\n",
    "type(df['width'])"
   ]
  },
  {
   "cell_type": "code",
   "execution_count": 30,
   "id": "04d7d979",
   "metadata": {},
   "outputs": [
    {
     "name": "stderr",
     "output_type": "stream",
     "text": [
      "C:\\Users\\wuamy\\AppData\\Local\\Temp\\ipykernel_13704\\3446483944.py:5: FutureWarning: In a future version, `df.iloc[:, i] = newvals` will attempt to set the values inplace instead of always setting a new array. To retain the old behavior, use either `df[df.columns[i]] = newvals` or, if columns are non-unique, `df.isetitem(i, newvals)`\n",
      "  df.loc[:,'width'] = pd.to_numeric(df['width'], errors='coerce')\n"
     ]
    }
   ],
   "source": [
    "# try to convert\n",
    "#pd.to_numeric(df['width'])\n",
    "# force nans\n",
    "#pd.to_numeric(df['width'], errors='coerce')\n",
    "df.loc[:,'width'] = pd.to_numeric(df['width'], errors='coerce')"
   ]
  },
  {
   "cell_type": "code",
   "execution_count": 31,
   "id": "f76dfd24",
   "metadata": {},
   "outputs": [
    {
     "data": {
      "text/plain": [
       "pandas.core.series.Series"
      ]
     },
     "execution_count": 31,
     "metadata": {},
     "output_type": "execute_result"
    }
   ],
   "source": [
    "type(df['width'])"
   ]
  },
  {
   "cell_type": "code",
   "execution_count": 32,
   "id": "951cc4a0",
   "metadata": {},
   "outputs": [
    {
     "name": "stderr",
     "output_type": "stream",
     "text": [
      "C:\\Users\\wuamy\\AppData\\Local\\Temp\\ipykernel_13704\\2826523437.py:1: FutureWarning: In a future version, `df.iloc[:, i] = newvals` will attempt to set the values inplace instead of always setting a new array. To retain the old behavior, use either `df[df.columns[i]] = newvals` or, if columns are non-unique, `df.isetitem(i, newvals)`\n",
      "  df.loc[:,'height'] = pd.to_numeric(df['height'], errors='coerce')\n"
     ]
    }
   ],
   "source": [
    "df.loc[:,'height'] = pd.to_numeric(df['height'], errors='coerce')"
   ]
  },
  {
   "cell_type": "code",
   "execution_count": 33,
   "id": "ab6b9a1a",
   "metadata": {},
   "outputs": [
    {
     "data": {
      "text/plain": [
       "dtype('float64')"
      ]
     },
     "execution_count": 33,
     "metadata": {},
     "output_type": "execute_result"
    }
   ],
   "source": [
    "df['height'].dtype\n"
   ]
  },
  {
   "cell_type": "code",
   "execution_count": 34,
   "id": "68f0b1a6",
   "metadata": {},
   "outputs": [
    {
     "data": {
      "text/plain": [
       "id\n",
       "1035      165086.0\n",
       "1036       66243.0\n",
       "1037      160181.0\n",
       "1038      125292.0\n",
       "1039       81405.0\n",
       "            ...   \n",
       "122960     93025.0\n",
       "122961     93025.0\n",
       "121181    108450.0\n",
       "112306         NaN\n",
       "127035    335280.0\n",
       "Length: 69201, dtype: float64"
      ]
     },
     "execution_count": 34,
     "metadata": {},
     "output_type": "execute_result"
    }
   ],
   "source": [
    "df['height'] * df['width']"
   ]
  },
  {
   "cell_type": "code",
   "execution_count": 35,
   "id": "f83d2e9b",
   "metadata": {},
   "outputs": [
    {
     "data": {
      "text/plain": [
       "mm    65860\n",
       "Name: units, dtype: int64"
      ]
     },
     "execution_count": 35,
     "metadata": {},
     "output_type": "execute_result"
    }
   ],
   "source": [
    "df['units'].value_counts()"
   ]
  },
  {
   "cell_type": "code",
   "execution_count": 36,
   "id": "a4b67ba9",
   "metadata": {},
   "outputs": [],
   "source": [
    "# assign - create new columns with size\n",
    "area = df['height']*df['width']\n",
    "df = df.assign(area=area)"
   ]
  },
  {
   "cell_type": "code",
   "execution_count": 37,
   "id": "154cd2da",
   "metadata": {},
   "outputs": [
    {
     "name": "stdout",
     "output_type": "stream",
     "text": [
      "<class 'pandas.core.frame.DataFrame'>\n",
      "Int64Index: 69201 entries, 1035 to 127035\n",
      "Data columns (total 9 columns):\n",
      " #   Column           Non-Null Count  Dtype  \n",
      "---  ------           --------------  -----  \n",
      " 0   artist           69201 non-null  object \n",
      " 1   title            69201 non-null  object \n",
      " 2   medium           62817 non-null  object \n",
      " 3   year             63823 non-null  object \n",
      " 4   acquisitionYear  69156 non-null  float64\n",
      " 5   width            65834 non-null  float64\n",
      " 6   height           65859 non-null  float64\n",
      " 7   units            65860 non-null  object \n",
      " 8   area             65833 non-null  float64\n",
      "dtypes: float64(4), object(5)\n",
      "memory usage: 7.3+ MB\n"
     ]
    }
   ],
   "source": [
    "df.info()"
   ]
  },
  {
   "cell_type": "code",
   "execution_count": 38,
   "id": "ca5e8137",
   "metadata": {},
   "outputs": [
    {
     "data": {
      "text/plain": [
       "132462000.0"
      ]
     },
     "execution_count": 38,
     "metadata": {},
     "output_type": "execute_result"
    }
   ],
   "source": [
    "df['area'].max()"
   ]
  },
  {
   "cell_type": "code",
   "execution_count": 39,
   "id": "23800963",
   "metadata": {},
   "outputs": [
    {
     "data": {
      "text/plain": [
       "98367"
      ]
     },
     "execution_count": 39,
     "metadata": {},
     "output_type": "execute_result"
    }
   ],
   "source": [
    "df['area'].idxmax()"
   ]
  },
  {
   "cell_type": "code",
   "execution_count": 40,
   "id": "a703e16e",
   "metadata": {},
   "outputs": [
    {
     "data": {
      "text/plain": [
       "artist                               Therrien, Robert\n",
       "title                No Title (Table and Four Chairs)\n",
       "medium             Aluminium, steel, wood and plastic\n",
       "year                                           2003.0\n",
       "acquisitionYear                                2008.0\n",
       "width                                          8920.0\n",
       "height                                        14850.0\n",
       "units                                              mm\n",
       "area                                      132462000.0\n",
       "Name: 98367, dtype: object"
      ]
     },
     "execution_count": 40,
     "metadata": {},
     "output_type": "execute_result"
    }
   ],
   "source": [
    "df.loc[df['area'].idxmax(),:]"
   ]
  },
  {
   "cell_type": "code",
   "execution_count": 41,
   "id": "89be3de5",
   "metadata": {},
   "outputs": [
    {
     "data": {
      "text/plain": [
       "pandas.core.groupby.generic.DataFrameGroupBy"
      ]
     },
     "execution_count": 41,
     "metadata": {},
     "output_type": "execute_result"
    }
   ],
   "source": [
    "# iteration\n",
    "small_df = df.iloc[49980:50019, :].copy()\n",
    "grouped = small_df.groupby('artist')\n",
    "type(grouped)"
   ]
  },
  {
   "cell_type": "code",
   "execution_count": 42,
   "id": "a624f578",
   "metadata": {
    "scrolled": true
   },
   "outputs": [
    {
     "name": "stdout",
     "output_type": "stream",
     "text": [
      "                artist            title               medium    year  \\\n",
      "id                                                                     \n",
      "4704  Frost, Sir Terry        Blue Moon  Lithograph on paper  1952.0   \n",
      "4705  Frost, Sir Terry      Boat Shapes     Linocut on paper  1952.0   \n",
      "4706  Frost, Sir Terry      Boat Shapes     Linocut on paper  1954.0   \n",
      "4707  Frost, Sir Terry      Boat Shapes     Linocut on paper  1954.0   \n",
      "4708  Frost, Sir Terry            Leeds    Drypoint on paper  1956.0   \n",
      "4709  Frost, Sir Terry  Camping, Anduze     Etching on paper  1979.0   \n",
      "4710  Frost, Sir Terry     Umea, Sweden     Etching on paper  1979.0   \n",
      "4711  Frost, Sir Terry    Self-Portrait     Etching on paper  1980.0   \n",
      "\n",
      "      acquisitionYear  width  height units     area  \n",
      "id                                                   \n",
      "4704           1983.0  355.0   273.0    mm  96915.0  \n",
      "4705           1983.0  132.0   143.0    mm  18876.0  \n",
      "4706           1983.0  131.0   155.0    mm  20305.0  \n",
      "4707           1983.0  193.0   267.0    mm  51531.0  \n",
      "4708           1983.0  125.0   167.0    mm  20875.0  \n",
      "4709           1983.0  257.0   209.0    mm  53713.0  \n",
      "4710           1983.0    NaN     NaN   NaN      NaN  \n",
      "4711           1983.0  277.0   200.0    mm  55400.0  \n"
     ]
    }
   ],
   "source": [
    "for name, group_df in grouped:\n",
    "    #print(name)\n",
    "    print(group_df)\n",
    "    break"
   ]
  },
  {
   "cell_type": "code",
   "execution_count": 43,
   "id": "604b1a8f",
   "metadata": {},
   "outputs": [
    {
     "name": "stdout",
     "output_type": "stream",
     "text": [
      "Frost, Sir Terry: 1983.0\n",
      "Phillips, Esq Tom: 1983.0\n",
      "Wols: 1983.0\n"
     ]
    }
   ],
   "source": [
    "# aggregate \n",
    "# min\n",
    "for name, group_df in small_df.groupby('artist'):\n",
    "    min_year = group_df['acquisitionYear'].min()\n",
    "    print(\"{}: {}\".format(name, min_year))"
   ]
  },
  {
   "cell_type": "code",
   "execution_count": 44,
   "id": "f2757f26",
   "metadata": {},
   "outputs": [
    {
     "data": {
      "text/html": [
       "<div>\n",
       "<style scoped>\n",
       "    .dataframe tbody tr th:only-of-type {\n",
       "        vertical-align: middle;\n",
       "    }\n",
       "\n",
       "    .dataframe tbody tr th {\n",
       "        vertical-align: top;\n",
       "    }\n",
       "\n",
       "    .dataframe thead th {\n",
       "        text-align: right;\n",
       "    }\n",
       "</style>\n",
       "<table border=\"1\" class=\"dataframe\">\n",
       "  <thead>\n",
       "    <tr style=\"text-align: right;\">\n",
       "      <th></th>\n",
       "      <th>artist</th>\n",
       "      <th>title</th>\n",
       "      <th>medium</th>\n",
       "      <th>year</th>\n",
       "      <th>acquisitionYear</th>\n",
       "      <th>width</th>\n",
       "      <th>height</th>\n",
       "      <th>units</th>\n",
       "      <th>area</th>\n",
       "    </tr>\n",
       "    <tr>\n",
       "      <th>id</th>\n",
       "      <th></th>\n",
       "      <th></th>\n",
       "      <th></th>\n",
       "      <th></th>\n",
       "      <th></th>\n",
       "      <th></th>\n",
       "      <th></th>\n",
       "      <th></th>\n",
       "      <th></th>\n",
       "    </tr>\n",
       "  </thead>\n",
       "  <tbody>\n",
       "    <tr>\n",
       "      <th>4704</th>\n",
       "      <td>Frost, Sir Terry</td>\n",
       "      <td>Blue Moon</td>\n",
       "      <td>Lithograph on paper</td>\n",
       "      <td>1952.0</td>\n",
       "      <td>1983.0</td>\n",
       "      <td>355.0</td>\n",
       "      <td>273.0</td>\n",
       "      <td>mm</td>\n",
       "      <td>96915.0</td>\n",
       "    </tr>\n",
       "    <tr>\n",
       "      <th>4705</th>\n",
       "      <td>Frost, Sir Terry</td>\n",
       "      <td>Boat Shapes</td>\n",
       "      <td>Linocut on paper</td>\n",
       "      <td>1952.0</td>\n",
       "      <td>1983.0</td>\n",
       "      <td>132.0</td>\n",
       "      <td>143.0</td>\n",
       "      <td>mm</td>\n",
       "      <td>18876.0</td>\n",
       "    </tr>\n",
       "    <tr>\n",
       "      <th>4706</th>\n",
       "      <td>Frost, Sir Terry</td>\n",
       "      <td>Boat Shapes</td>\n",
       "      <td>Linocut on paper</td>\n",
       "      <td>1954.0</td>\n",
       "      <td>1983.0</td>\n",
       "      <td>131.0</td>\n",
       "      <td>155.0</td>\n",
       "      <td>mm</td>\n",
       "      <td>20305.0</td>\n",
       "    </tr>\n",
       "    <tr>\n",
       "      <th>4707</th>\n",
       "      <td>Frost, Sir Terry</td>\n",
       "      <td>Boat Shapes</td>\n",
       "      <td>Linocut on paper</td>\n",
       "      <td>1954.0</td>\n",
       "      <td>1983.0</td>\n",
       "      <td>193.0</td>\n",
       "      <td>267.0</td>\n",
       "      <td>mm</td>\n",
       "      <td>51531.0</td>\n",
       "    </tr>\n",
       "    <tr>\n",
       "      <th>4708</th>\n",
       "      <td>Frost, Sir Terry</td>\n",
       "      <td>Leeds</td>\n",
       "      <td>Drypoint on paper</td>\n",
       "      <td>1956.0</td>\n",
       "      <td>1983.0</td>\n",
       "      <td>125.0</td>\n",
       "      <td>167.0</td>\n",
       "      <td>mm</td>\n",
       "      <td>20875.0</td>\n",
       "    </tr>\n",
       "    <tr>\n",
       "      <th>4709</th>\n",
       "      <td>Frost, Sir Terry</td>\n",
       "      <td>Camping, Anduze</td>\n",
       "      <td>Etching on paper</td>\n",
       "      <td>1979.0</td>\n",
       "      <td>1983.0</td>\n",
       "      <td>257.0</td>\n",
       "      <td>209.0</td>\n",
       "      <td>mm</td>\n",
       "      <td>53713.0</td>\n",
       "    </tr>\n",
       "    <tr>\n",
       "      <th>4710</th>\n",
       "      <td>Frost, Sir Terry</td>\n",
       "      <td>Umea, Sweden</td>\n",
       "      <td>Etching on paper</td>\n",
       "      <td>1979.0</td>\n",
       "      <td>1983.0</td>\n",
       "      <td>NaN</td>\n",
       "      <td>NaN</td>\n",
       "      <td>NaN</td>\n",
       "      <td>NaN</td>\n",
       "    </tr>\n",
       "    <tr>\n",
       "      <th>4711</th>\n",
       "      <td>Frost, Sir Terry</td>\n",
       "      <td>Self-Portrait</td>\n",
       "      <td>Etching on paper</td>\n",
       "      <td>1980.0</td>\n",
       "      <td>1983.0</td>\n",
       "      <td>277.0</td>\n",
       "      <td>200.0</td>\n",
       "      <td>mm</td>\n",
       "      <td>55400.0</td>\n",
       "    </tr>\n",
       "    <tr>\n",
       "      <th>11838</th>\n",
       "      <td>Phillips, Esq Tom</td>\n",
       "      <td>[colophon]</td>\n",
       "      <td>Etching on paper</td>\n",
       "      <td>1979.0</td>\n",
       "      <td>1983.0</td>\n",
       "      <td>292.0</td>\n",
       "      <td>204.0</td>\n",
       "      <td>mm</td>\n",
       "      <td>59568.0</td>\n",
       "    </tr>\n",
       "    <tr>\n",
       "      <th>16412</th>\n",
       "      <td>Wols</td>\n",
       "      <td>[no title]</td>\n",
       "      <td>Etching on paper</td>\n",
       "      <td>1937.0</td>\n",
       "      <td>1983.0</td>\n",
       "      <td>130.0</td>\n",
       "      <td>80.0</td>\n",
       "      <td>mm</td>\n",
       "      <td>10400.0</td>\n",
       "    </tr>\n",
       "    <tr>\n",
       "      <th>16413</th>\n",
       "      <td>Wols</td>\n",
       "      <td>[no title]</td>\n",
       "      <td>Etching and drypoint on paper</td>\n",
       "      <td>1937.0</td>\n",
       "      <td>1983.0</td>\n",
       "      <td>187.0</td>\n",
       "      <td>102.0</td>\n",
       "      <td>mm</td>\n",
       "      <td>19074.0</td>\n",
       "    </tr>\n",
       "    <tr>\n",
       "      <th>16414</th>\n",
       "      <td>Wols</td>\n",
       "      <td>[no title]</td>\n",
       "      <td>Etching and drypoint on paper</td>\n",
       "      <td>1937.0</td>\n",
       "      <td>1983.0</td>\n",
       "      <td>248.0</td>\n",
       "      <td>168.0</td>\n",
       "      <td>mm</td>\n",
       "      <td>41664.0</td>\n",
       "    </tr>\n",
       "    <tr>\n",
       "      <th>16415</th>\n",
       "      <td>Wols</td>\n",
       "      <td>[no title]</td>\n",
       "      <td>Etching and drypoint on paper</td>\n",
       "      <td>1937.0</td>\n",
       "      <td>1983.0</td>\n",
       "      <td>149.0</td>\n",
       "      <td>102.0</td>\n",
       "      <td>mm</td>\n",
       "      <td>15198.0</td>\n",
       "    </tr>\n",
       "    <tr>\n",
       "      <th>16416</th>\n",
       "      <td>Wols</td>\n",
       "      <td>[no title]</td>\n",
       "      <td>Etching and drypoint on paper</td>\n",
       "      <td>1937.0</td>\n",
       "      <td>1983.0</td>\n",
       "      <td>203.0</td>\n",
       "      <td>120.0</td>\n",
       "      <td>mm</td>\n",
       "      <td>24360.0</td>\n",
       "    </tr>\n",
       "    <tr>\n",
       "      <th>16417</th>\n",
       "      <td>Wols</td>\n",
       "      <td>[no title]</td>\n",
       "      <td>Etching on paper</td>\n",
       "      <td>1937.0</td>\n",
       "      <td>1983.0</td>\n",
       "      <td>130.0</td>\n",
       "      <td>79.0</td>\n",
       "      <td>mm</td>\n",
       "      <td>10270.0</td>\n",
       "    </tr>\n",
       "    <tr>\n",
       "      <th>16418</th>\n",
       "      <td>Wols</td>\n",
       "      <td>[no title]</td>\n",
       "      <td>Etching and drypoint on paper</td>\n",
       "      <td>1937.0</td>\n",
       "      <td>1983.0</td>\n",
       "      <td>124.0</td>\n",
       "      <td>98.0</td>\n",
       "      <td>mm</td>\n",
       "      <td>12152.0</td>\n",
       "    </tr>\n",
       "    <tr>\n",
       "      <th>16419</th>\n",
       "      <td>Wols</td>\n",
       "      <td>[no title]</td>\n",
       "      <td>Etching and drypoint on paper</td>\n",
       "      <td>1937.0</td>\n",
       "      <td>1983.0</td>\n",
       "      <td>140.0</td>\n",
       "      <td>89.0</td>\n",
       "      <td>mm</td>\n",
       "      <td>12460.0</td>\n",
       "    </tr>\n",
       "    <tr>\n",
       "      <th>16420</th>\n",
       "      <td>Wols</td>\n",
       "      <td>[no title]</td>\n",
       "      <td>Etching and drypoint on paper</td>\n",
       "      <td>1937.0</td>\n",
       "      <td>1983.0</td>\n",
       "      <td>140.0</td>\n",
       "      <td>86.0</td>\n",
       "      <td>mm</td>\n",
       "      <td>12040.0</td>\n",
       "    </tr>\n",
       "    <tr>\n",
       "      <th>16421</th>\n",
       "      <td>Wols</td>\n",
       "      <td>[no title]</td>\n",
       "      <td>Etching and drypoint on paper</td>\n",
       "      <td>1937.0</td>\n",
       "      <td>1983.0</td>\n",
       "      <td>83.0</td>\n",
       "      <td>79.0</td>\n",
       "      <td>mm</td>\n",
       "      <td>6557.0</td>\n",
       "    </tr>\n",
       "    <tr>\n",
       "      <th>16422</th>\n",
       "      <td>Wols</td>\n",
       "      <td>[no title]</td>\n",
       "      <td>Etching and drypoint on paper</td>\n",
       "      <td>1937.0</td>\n",
       "      <td>1983.0</td>\n",
       "      <td>200.0</td>\n",
       "      <td>146.0</td>\n",
       "      <td>mm</td>\n",
       "      <td>29200.0</td>\n",
       "    </tr>\n",
       "    <tr>\n",
       "      <th>16423</th>\n",
       "      <td>Wols</td>\n",
       "      <td>[no title]</td>\n",
       "      <td>Etching on paper</td>\n",
       "      <td>1937.0</td>\n",
       "      <td>1983.0</td>\n",
       "      <td>60.0</td>\n",
       "      <td>98.0</td>\n",
       "      <td>mm</td>\n",
       "      <td>5880.0</td>\n",
       "    </tr>\n",
       "    <tr>\n",
       "      <th>16424</th>\n",
       "      <td>Wols</td>\n",
       "      <td>[no title]</td>\n",
       "      <td>Etching and drypoint on paper</td>\n",
       "      <td>1937.0</td>\n",
       "      <td>1983.0</td>\n",
       "      <td>124.0</td>\n",
       "      <td>98.0</td>\n",
       "      <td>mm</td>\n",
       "      <td>12152.0</td>\n",
       "    </tr>\n",
       "    <tr>\n",
       "      <th>16425</th>\n",
       "      <td>Wols</td>\n",
       "      <td>[no title]</td>\n",
       "      <td>Etching on paper</td>\n",
       "      <td>1937.0</td>\n",
       "      <td>1983.0</td>\n",
       "      <td>124.0</td>\n",
       "      <td>98.0</td>\n",
       "      <td>mm</td>\n",
       "      <td>12152.0</td>\n",
       "    </tr>\n",
       "    <tr>\n",
       "      <th>16426</th>\n",
       "      <td>Wols</td>\n",
       "      <td>[no title]</td>\n",
       "      <td>Etching and drypoint on paper</td>\n",
       "      <td>1937.0</td>\n",
       "      <td>1983.0</td>\n",
       "      <td>204.0</td>\n",
       "      <td>118.0</td>\n",
       "      <td>mm</td>\n",
       "      <td>24072.0</td>\n",
       "    </tr>\n",
       "    <tr>\n",
       "      <th>16427</th>\n",
       "      <td>Wols</td>\n",
       "      <td>[no title]</td>\n",
       "      <td>Etching and drypoint on paper</td>\n",
       "      <td>1937.0</td>\n",
       "      <td>1983.0</td>\n",
       "      <td>105.0</td>\n",
       "      <td>98.0</td>\n",
       "      <td>mm</td>\n",
       "      <td>10290.0</td>\n",
       "    </tr>\n",
       "    <tr>\n",
       "      <th>16428</th>\n",
       "      <td>Wols</td>\n",
       "      <td>[no title]</td>\n",
       "      <td>Etching and drypoint on paper</td>\n",
       "      <td>1937.0</td>\n",
       "      <td>1983.0</td>\n",
       "      <td>197.0</td>\n",
       "      <td>149.0</td>\n",
       "      <td>mm</td>\n",
       "      <td>29353.0</td>\n",
       "    </tr>\n",
       "    <tr>\n",
       "      <th>16429</th>\n",
       "      <td>Wols</td>\n",
       "      <td>[no title]</td>\n",
       "      <td>Etching and drypoint on paper</td>\n",
       "      <td>1937.0</td>\n",
       "      <td>1983.0</td>\n",
       "      <td>102.0</td>\n",
       "      <td>120.0</td>\n",
       "      <td>mm</td>\n",
       "      <td>12240.0</td>\n",
       "    </tr>\n",
       "    <tr>\n",
       "      <th>16430</th>\n",
       "      <td>Wols</td>\n",
       "      <td>[no title]</td>\n",
       "      <td>Etching and drypoint on paper</td>\n",
       "      <td>1937.0</td>\n",
       "      <td>1983.0</td>\n",
       "      <td>118.0</td>\n",
       "      <td>95.0</td>\n",
       "      <td>mm</td>\n",
       "      <td>11210.0</td>\n",
       "    </tr>\n",
       "    <tr>\n",
       "      <th>16431</th>\n",
       "      <td>Wols</td>\n",
       "      <td>[no title]</td>\n",
       "      <td>Etching and drypoint on paper</td>\n",
       "      <td>1937.0</td>\n",
       "      <td>1983.0</td>\n",
       "      <td>140.0</td>\n",
       "      <td>79.0</td>\n",
       "      <td>mm</td>\n",
       "      <td>11060.0</td>\n",
       "    </tr>\n",
       "    <tr>\n",
       "      <th>16432</th>\n",
       "      <td>Wols</td>\n",
       "      <td>[no title]</td>\n",
       "      <td>Etching and drypoint on paper</td>\n",
       "      <td>1937.0</td>\n",
       "      <td>1983.0</td>\n",
       "      <td>124.0</td>\n",
       "      <td>95.0</td>\n",
       "      <td>mm</td>\n",
       "      <td>11780.0</td>\n",
       "    </tr>\n",
       "    <tr>\n",
       "      <th>16433</th>\n",
       "      <td>Wols</td>\n",
       "      <td>[no title]</td>\n",
       "      <td>Etching and drypoint on paper</td>\n",
       "      <td>1937.0</td>\n",
       "      <td>1983.0</td>\n",
       "      <td>105.0</td>\n",
       "      <td>73.0</td>\n",
       "      <td>mm</td>\n",
       "      <td>7665.0</td>\n",
       "    </tr>\n",
       "    <tr>\n",
       "      <th>16434</th>\n",
       "      <td>Wols</td>\n",
       "      <td>[no title]</td>\n",
       "      <td>Etching and drypoint on paper</td>\n",
       "      <td>1937.0</td>\n",
       "      <td>1983.0</td>\n",
       "      <td>121.0</td>\n",
       "      <td>102.0</td>\n",
       "      <td>mm</td>\n",
       "      <td>12342.0</td>\n",
       "    </tr>\n",
       "    <tr>\n",
       "      <th>16435</th>\n",
       "      <td>Wols</td>\n",
       "      <td>[no title]</td>\n",
       "      <td>Etching and drypoint on paper</td>\n",
       "      <td>1937.0</td>\n",
       "      <td>1983.0</td>\n",
       "      <td>121.0</td>\n",
       "      <td>92.0</td>\n",
       "      <td>mm</td>\n",
       "      <td>11132.0</td>\n",
       "    </tr>\n",
       "    <tr>\n",
       "      <th>16436</th>\n",
       "      <td>Wols</td>\n",
       "      <td>[no title]</td>\n",
       "      <td>Etching and drypoint on paper</td>\n",
       "      <td>1937.0</td>\n",
       "      <td>1983.0</td>\n",
       "      <td>124.0</td>\n",
       "      <td>98.0</td>\n",
       "      <td>mm</td>\n",
       "      <td>12152.0</td>\n",
       "    </tr>\n",
       "    <tr>\n",
       "      <th>16437</th>\n",
       "      <td>Wols</td>\n",
       "      <td>[no title]</td>\n",
       "      <td>Etching and drypoint on paper</td>\n",
       "      <td>1937.0</td>\n",
       "      <td>1983.0</td>\n",
       "      <td>124.0</td>\n",
       "      <td>98.0</td>\n",
       "      <td>mm</td>\n",
       "      <td>12152.0</td>\n",
       "    </tr>\n",
       "    <tr>\n",
       "      <th>16438</th>\n",
       "      <td>Wols</td>\n",
       "      <td>[no title]</td>\n",
       "      <td>Etching and drypoint on paper</td>\n",
       "      <td>1937.0</td>\n",
       "      <td>1983.0</td>\n",
       "      <td>124.0</td>\n",
       "      <td>98.0</td>\n",
       "      <td>mm</td>\n",
       "      <td>12152.0</td>\n",
       "    </tr>\n",
       "    <tr>\n",
       "      <th>16439</th>\n",
       "      <td>Wols</td>\n",
       "      <td>[no title]</td>\n",
       "      <td>Etching and drypoint on paper</td>\n",
       "      <td>1937.0</td>\n",
       "      <td>1983.0</td>\n",
       "      <td>102.0</td>\n",
       "      <td>70.0</td>\n",
       "      <td>mm</td>\n",
       "      <td>7140.0</td>\n",
       "    </tr>\n",
       "    <tr>\n",
       "      <th>16440</th>\n",
       "      <td>Wols</td>\n",
       "      <td>[no title]</td>\n",
       "      <td>Etching and drypoint on paper</td>\n",
       "      <td>1937.0</td>\n",
       "      <td>1983.0</td>\n",
       "      <td>105.0</td>\n",
       "      <td>70.0</td>\n",
       "      <td>mm</td>\n",
       "      <td>7350.0</td>\n",
       "    </tr>\n",
       "    <tr>\n",
       "      <th>16441</th>\n",
       "      <td>Wols</td>\n",
       "      <td>[no title]</td>\n",
       "      <td>Etching and drypoint on paper</td>\n",
       "      <td>1937.0</td>\n",
       "      <td>1983.0</td>\n",
       "      <td>324.0</td>\n",
       "      <td>248.0</td>\n",
       "      <td>mm</td>\n",
       "      <td>80352.0</td>\n",
       "    </tr>\n",
       "  </tbody>\n",
       "</table>\n",
       "</div>"
      ],
      "text/plain": [
       "                  artist            title                         medium  \\\n",
       "id                                                                         \n",
       "4704    Frost, Sir Terry        Blue Moon            Lithograph on paper   \n",
       "4705    Frost, Sir Terry      Boat Shapes               Linocut on paper   \n",
       "4706    Frost, Sir Terry      Boat Shapes               Linocut on paper   \n",
       "4707    Frost, Sir Terry      Boat Shapes               Linocut on paper   \n",
       "4708    Frost, Sir Terry            Leeds              Drypoint on paper   \n",
       "4709    Frost, Sir Terry  Camping, Anduze               Etching on paper   \n",
       "4710    Frost, Sir Terry     Umea, Sweden               Etching on paper   \n",
       "4711    Frost, Sir Terry    Self-Portrait               Etching on paper   \n",
       "11838  Phillips, Esq Tom       [colophon]               Etching on paper   \n",
       "16412               Wols       [no title]               Etching on paper   \n",
       "16413               Wols       [no title]  Etching and drypoint on paper   \n",
       "16414               Wols       [no title]  Etching and drypoint on paper   \n",
       "16415               Wols       [no title]  Etching and drypoint on paper   \n",
       "16416               Wols       [no title]  Etching and drypoint on paper   \n",
       "16417               Wols       [no title]               Etching on paper   \n",
       "16418               Wols       [no title]  Etching and drypoint on paper   \n",
       "16419               Wols       [no title]  Etching and drypoint on paper   \n",
       "16420               Wols       [no title]  Etching and drypoint on paper   \n",
       "16421               Wols       [no title]  Etching and drypoint on paper   \n",
       "16422               Wols       [no title]  Etching and drypoint on paper   \n",
       "16423               Wols       [no title]               Etching on paper   \n",
       "16424               Wols       [no title]  Etching and drypoint on paper   \n",
       "16425               Wols       [no title]               Etching on paper   \n",
       "16426               Wols       [no title]  Etching and drypoint on paper   \n",
       "16427               Wols       [no title]  Etching and drypoint on paper   \n",
       "16428               Wols       [no title]  Etching and drypoint on paper   \n",
       "16429               Wols       [no title]  Etching and drypoint on paper   \n",
       "16430               Wols       [no title]  Etching and drypoint on paper   \n",
       "16431               Wols       [no title]  Etching and drypoint on paper   \n",
       "16432               Wols       [no title]  Etching and drypoint on paper   \n",
       "16433               Wols       [no title]  Etching and drypoint on paper   \n",
       "16434               Wols       [no title]  Etching and drypoint on paper   \n",
       "16435               Wols       [no title]  Etching and drypoint on paper   \n",
       "16436               Wols       [no title]  Etching and drypoint on paper   \n",
       "16437               Wols       [no title]  Etching and drypoint on paper   \n",
       "16438               Wols       [no title]  Etching and drypoint on paper   \n",
       "16439               Wols       [no title]  Etching and drypoint on paper   \n",
       "16440               Wols       [no title]  Etching and drypoint on paper   \n",
       "16441               Wols       [no title]  Etching and drypoint on paper   \n",
       "\n",
       "         year  acquisitionYear  width  height units     area  \n",
       "id                                                            \n",
       "4704   1952.0           1983.0  355.0   273.0    mm  96915.0  \n",
       "4705   1952.0           1983.0  132.0   143.0    mm  18876.0  \n",
       "4706   1954.0           1983.0  131.0   155.0    mm  20305.0  \n",
       "4707   1954.0           1983.0  193.0   267.0    mm  51531.0  \n",
       "4708   1956.0           1983.0  125.0   167.0    mm  20875.0  \n",
       "4709   1979.0           1983.0  257.0   209.0    mm  53713.0  \n",
       "4710   1979.0           1983.0    NaN     NaN   NaN      NaN  \n",
       "4711   1980.0           1983.0  277.0   200.0    mm  55400.0  \n",
       "11838  1979.0           1983.0  292.0   204.0    mm  59568.0  \n",
       "16412  1937.0           1983.0  130.0    80.0    mm  10400.0  \n",
       "16413  1937.0           1983.0  187.0   102.0    mm  19074.0  \n",
       "16414  1937.0           1983.0  248.0   168.0    mm  41664.0  \n",
       "16415  1937.0           1983.0  149.0   102.0    mm  15198.0  \n",
       "16416  1937.0           1983.0  203.0   120.0    mm  24360.0  \n",
       "16417  1937.0           1983.0  130.0    79.0    mm  10270.0  \n",
       "16418  1937.0           1983.0  124.0    98.0    mm  12152.0  \n",
       "16419  1937.0           1983.0  140.0    89.0    mm  12460.0  \n",
       "16420  1937.0           1983.0  140.0    86.0    mm  12040.0  \n",
       "16421  1937.0           1983.0   83.0    79.0    mm   6557.0  \n",
       "16422  1937.0           1983.0  200.0   146.0    mm  29200.0  \n",
       "16423  1937.0           1983.0   60.0    98.0    mm   5880.0  \n",
       "16424  1937.0           1983.0  124.0    98.0    mm  12152.0  \n",
       "16425  1937.0           1983.0  124.0    98.0    mm  12152.0  \n",
       "16426  1937.0           1983.0  204.0   118.0    mm  24072.0  \n",
       "16427  1937.0           1983.0  105.0    98.0    mm  10290.0  \n",
       "16428  1937.0           1983.0  197.0   149.0    mm  29353.0  \n",
       "16429  1937.0           1983.0  102.0   120.0    mm  12240.0  \n",
       "16430  1937.0           1983.0  118.0    95.0    mm  11210.0  \n",
       "16431  1937.0           1983.0  140.0    79.0    mm  11060.0  \n",
       "16432  1937.0           1983.0  124.0    95.0    mm  11780.0  \n",
       "16433  1937.0           1983.0  105.0    73.0    mm   7665.0  \n",
       "16434  1937.0           1983.0  121.0   102.0    mm  12342.0  \n",
       "16435  1937.0           1983.0  121.0    92.0    mm  11132.0  \n",
       "16436  1937.0           1983.0  124.0    98.0    mm  12152.0  \n",
       "16437  1937.0           1983.0  124.0    98.0    mm  12152.0  \n",
       "16438  1937.0           1983.0  124.0    98.0    mm  12152.0  \n",
       "16439  1937.0           1983.0  102.0    70.0    mm   7140.0  \n",
       "16440  1937.0           1983.0  105.0    70.0    mm   7350.0  \n",
       "16441  1937.0           1983.0  324.0   248.0    mm  80352.0  "
      ]
     },
     "execution_count": 44,
     "metadata": {},
     "output_type": "execute_result"
    }
   ],
   "source": [
    "# Transform\n",
    "# Equivalent of editing by hand:\n",
    "# make a case when there is no data to infer\n",
    "def fill_values(series):\n",
    "    values_counted = series.value_counts()\n",
    "    if values_counted.empty:\n",
    "        return series\n",
    "    most_frequent = values_counted.index[0]\n",
    "    new_medium = series.fillna(most_frequent)\n",
    "    return new_medium\n",
    "\n",
    "def transform_df(source_df):\n",
    "    group_dfs = []\n",
    "    for name, group_df in source_df.groupby('artist'):\n",
    "        filled_df =group_df.copy()\n",
    "        filled_df.loc[:,'medium'] = fill_values(group_df['medium'])\n",
    "        group_dfs.append(filled_df)\n",
    "    \n",
    "    new_df = pd.concat(group_dfs)\n",
    "    return new_df\n",
    "\n",
    "# now check the result\n",
    "filled_df = transform_df(small_df)\n",
    "filled_df"
   ]
  },
  {
   "cell_type": "code",
   "execution_count": 45,
   "id": "7fe5b7dd",
   "metadata": {},
   "outputs": [],
   "source": [
    "# build-ins\n",
    "# transfor\n",
    "grouped_mediums = small_df.groupby('artist')['medium']\n",
    "small_df.loc[:,'medium'] = grouped_mediums.transform(fill_values)"
   ]
  },
  {
   "cell_type": "code",
   "execution_count": 46,
   "id": "62a9724d",
   "metadata": {},
   "outputs": [
    {
     "name": "stderr",
     "output_type": "stream",
     "text": [
      "C:\\Users\\wuamy\\AppData\\Local\\Temp\\ipykernel_13704\\2761454280.py:2: FutureWarning: Dropping invalid columns in DataFrameGroupBy.min is deprecated. In a future version, a TypeError will be raised. Before calling .min, select only columns which should be valid for the function.\n",
      "  df.groupby('artist').agg(np.min)\n",
      "C:\\Users\\wuamy\\AppData\\Local\\Temp\\ipykernel_13704\\2761454280.py:3: FutureWarning: Dropping invalid columns in DataFrameGroupBy.min is deprecated. In a future version, a TypeError will be raised. Before calling .min, select only columns which should be valid for the function.\n",
      "  df.groupby('artist').min()\n"
     ]
    },
    {
     "data": {
      "text/html": [
       "<div>\n",
       "<style scoped>\n",
       "    .dataframe tbody tr th:only-of-type {\n",
       "        vertical-align: middle;\n",
       "    }\n",
       "\n",
       "    .dataframe tbody tr th {\n",
       "        vertical-align: top;\n",
       "    }\n",
       "\n",
       "    .dataframe thead th {\n",
       "        text-align: right;\n",
       "    }\n",
       "</style>\n",
       "<table border=\"1\" class=\"dataframe\">\n",
       "  <thead>\n",
       "    <tr style=\"text-align: right;\">\n",
       "      <th></th>\n",
       "      <th>title</th>\n",
       "      <th>acquisitionYear</th>\n",
       "      <th>width</th>\n",
       "      <th>height</th>\n",
       "      <th>area</th>\n",
       "    </tr>\n",
       "    <tr>\n",
       "      <th>artist</th>\n",
       "      <th></th>\n",
       "      <th></th>\n",
       "      <th></th>\n",
       "      <th></th>\n",
       "      <th></th>\n",
       "    </tr>\n",
       "  </thead>\n",
       "  <tbody>\n",
       "    <tr>\n",
       "      <th>?British School</th>\n",
       "      <td>Portrait of a Gentleman, probably of the West ...</td>\n",
       "      <td>1927.0</td>\n",
       "      <td>1330.0</td>\n",
       "      <td>785.0</td>\n",
       "      <td>1044050.0</td>\n",
       "    </tr>\n",
       "    <tr>\n",
       "      <th>Abakanowicz, Magdalena</th>\n",
       "      <td>Abakan Orange</td>\n",
       "      <td>2009.0</td>\n",
       "      <td>NaN</td>\n",
       "      <td>NaN</td>\n",
       "      <td>NaN</td>\n",
       "    </tr>\n",
       "    <tr>\n",
       "      <th>Abbey, Edwin Austin</th>\n",
       "      <td>Illustration to ‘Judith Shakespeare’</td>\n",
       "      <td>1924.0</td>\n",
       "      <td>251.0</td>\n",
       "      <td>254.0</td>\n",
       "      <td>74045.0</td>\n",
       "    </tr>\n",
       "    <tr>\n",
       "      <th>Abbott, Berenice</th>\n",
       "      <td>Dinty Moore Antiques</td>\n",
       "      <td>2010.0</td>\n",
       "      <td>240.0</td>\n",
       "      <td>180.0</td>\n",
       "      <td>43200.0</td>\n",
       "    </tr>\n",
       "    <tr>\n",
       "      <th>Abbott, Lemuel Francis</th>\n",
       "      <td>Henry Byne, of Carshalton</td>\n",
       "      <td>1885.0</td>\n",
       "      <td>737.0</td>\n",
       "      <td>610.0</td>\n",
       "      <td>449570.0</td>\n",
       "    </tr>\n",
       "    <tr>\n",
       "      <th>...</th>\n",
       "      <td>...</td>\n",
       "      <td>...</td>\n",
       "      <td>...</td>\n",
       "      <td>...</td>\n",
       "      <td>...</td>\n",
       "    </tr>\n",
       "    <tr>\n",
       "      <th>Zuloaga, Ignacio</th>\n",
       "      <td>View of the Escorial</td>\n",
       "      <td>1923.0</td>\n",
       "      <td>292.0</td>\n",
       "      <td>406.0</td>\n",
       "      <td>118552.0</td>\n",
       "    </tr>\n",
       "    <tr>\n",
       "      <th>Zyw, Aleksander</th>\n",
       "      <td>Light</td>\n",
       "      <td>1962.0</td>\n",
       "      <td>934.0</td>\n",
       "      <td>662.0</td>\n",
       "      <td>618308.0</td>\n",
       "    </tr>\n",
       "    <tr>\n",
       "      <th>di Suvero, Mark</th>\n",
       "      <td>Tetra</td>\n",
       "      <td>2004.0</td>\n",
       "      <td>1152.0</td>\n",
       "      <td>843.0</td>\n",
       "      <td>971136.0</td>\n",
       "    </tr>\n",
       "    <tr>\n",
       "      <th>van Elk, Ger</th>\n",
       "      <td>Lunch II</td>\n",
       "      <td>1980.0</td>\n",
       "      <td>800.0</td>\n",
       "      <td>1000.0</td>\n",
       "      <td>800000.0</td>\n",
       "    </tr>\n",
       "    <tr>\n",
       "      <th>Štyrský, Jindrich</th>\n",
       "      <td>Untitled</td>\n",
       "      <td>2007.0</td>\n",
       "      <td>NaN</td>\n",
       "      <td>NaN</td>\n",
       "      <td>NaN</td>\n",
       "    </tr>\n",
       "  </tbody>\n",
       "</table>\n",
       "<p>3336 rows × 5 columns</p>\n",
       "</div>"
      ],
      "text/plain": [
       "                                                                    title  \\\n",
       "artist                                                                      \n",
       "?British School         Portrait of a Gentleman, probably of the West ...   \n",
       "Abakanowicz, Magdalena                                      Abakan Orange   \n",
       "Abbey, Edwin Austin                  Illustration to ‘Judith Shakespeare’   \n",
       "Abbott, Berenice                                     Dinty Moore Antiques   \n",
       "Abbott, Lemuel Francis                          Henry Byne, of Carshalton   \n",
       "...                                                                   ...   \n",
       "Zuloaga, Ignacio                                     View of the Escorial   \n",
       "Zyw, Aleksander                                                     Light   \n",
       "di Suvero, Mark                                                     Tetra   \n",
       "van Elk, Ger                                                     Lunch II   \n",
       "Štyrský, Jindrich                                                Untitled   \n",
       "\n",
       "                        acquisitionYear   width  height       area  \n",
       "artist                                                              \n",
       "?British School                  1927.0  1330.0   785.0  1044050.0  \n",
       "Abakanowicz, Magdalena           2009.0     NaN     NaN        NaN  \n",
       "Abbey, Edwin Austin              1924.0   251.0   254.0    74045.0  \n",
       "Abbott, Berenice                 2010.0   240.0   180.0    43200.0  \n",
       "Abbott, Lemuel Francis           1885.0   737.0   610.0   449570.0  \n",
       "...                                 ...     ...     ...        ...  \n",
       "Zuloaga, Ignacio                 1923.0   292.0   406.0   118552.0  \n",
       "Zyw, Aleksander                  1962.0   934.0   662.0   618308.0  \n",
       "di Suvero, Mark                  2004.0  1152.0   843.0   971136.0  \n",
       "van Elk, Ger                     1980.0   800.0  1000.0   800000.0  \n",
       "Štyrský, Jindrich                2007.0     NaN     NaN        NaN  \n",
       "\n",
       "[3336 rows x 5 columns]"
      ]
     },
     "execution_count": 46,
     "metadata": {},
     "output_type": "execute_result"
    }
   ],
   "source": [
    "# min\n",
    "df.groupby('artist').agg(np.min)\n",
    "df.groupby('artist').min()"
   ]
  },
  {
   "cell_type": "code",
   "execution_count": 47,
   "id": "b540a6ee",
   "metadata": {},
   "outputs": [
    {
     "data": {
      "text/html": [
       "<div>\n",
       "<style scoped>\n",
       "    .dataframe tbody tr th:only-of-type {\n",
       "        vertical-align: middle;\n",
       "    }\n",
       "\n",
       "    .dataframe tbody tr th {\n",
       "        vertical-align: top;\n",
       "    }\n",
       "\n",
       "    .dataframe thead th {\n",
       "        text-align: right;\n",
       "    }\n",
       "</style>\n",
       "<table border=\"1\" class=\"dataframe\">\n",
       "  <thead>\n",
       "    <tr style=\"text-align: right;\">\n",
       "      <th></th>\n",
       "      <th>artist</th>\n",
       "      <th>title</th>\n",
       "      <th>medium</th>\n",
       "      <th>year</th>\n",
       "      <th>acquisitionYear</th>\n",
       "      <th>width</th>\n",
       "      <th>height</th>\n",
       "      <th>units</th>\n",
       "      <th>area</th>\n",
       "    </tr>\n",
       "    <tr>\n",
       "      <th>id</th>\n",
       "      <th></th>\n",
       "      <th></th>\n",
       "      <th></th>\n",
       "      <th></th>\n",
       "      <th></th>\n",
       "      <th></th>\n",
       "      <th></th>\n",
       "      <th></th>\n",
       "      <th></th>\n",
       "    </tr>\n",
       "  </thead>\n",
       "  <tbody>\n",
       "    <tr>\n",
       "      <th>20571</th>\n",
       "      <td>Scully, Sean</td>\n",
       "      <td>#1</td>\n",
       "      <td>Aquatint on paper</td>\n",
       "      <td>1992.0</td>\n",
       "      <td>1992.0</td>\n",
       "      <td>117.0</td>\n",
       "      <td>174.0</td>\n",
       "      <td>mm</td>\n",
       "      <td>20358.0</td>\n",
       "    </tr>\n",
       "    <tr>\n",
       "      <th>21345</th>\n",
       "      <td>Dunham, Carroll</td>\n",
       "      <td>#1</td>\n",
       "      <td>Drypoint on paper</td>\n",
       "      <td>1989.0</td>\n",
       "      <td>2002.0</td>\n",
       "      <td>392.0</td>\n",
       "      <td>579.0</td>\n",
       "      <td>mm</td>\n",
       "      <td>226968.0</td>\n",
       "    </tr>\n",
       "    <tr>\n",
       "      <th>21346</th>\n",
       "      <td>Dunham, Carroll</td>\n",
       "      <td>#2</td>\n",
       "      <td>Drypoint on paper</td>\n",
       "      <td>1989.0</td>\n",
       "      <td>2002.0</td>\n",
       "      <td>392.0</td>\n",
       "      <td>579.0</td>\n",
       "      <td>mm</td>\n",
       "      <td>226968.0</td>\n",
       "    </tr>\n",
       "    <tr>\n",
       "      <th>20572</th>\n",
       "      <td>Scully, Sean</td>\n",
       "      <td>#2</td>\n",
       "      <td>Aquatint on paper</td>\n",
       "      <td>1992.0</td>\n",
       "      <td>1992.0</td>\n",
       "      <td>323.0</td>\n",
       "      <td>278.0</td>\n",
       "      <td>mm</td>\n",
       "      <td>89794.0</td>\n",
       "    </tr>\n",
       "    <tr>\n",
       "      <th>21347</th>\n",
       "      <td>Dunham, Carroll</td>\n",
       "      <td>#3</td>\n",
       "      <td>Drypoint on paper</td>\n",
       "      <td>1989.0</td>\n",
       "      <td>2002.0</td>\n",
       "      <td>392.0</td>\n",
       "      <td>579.0</td>\n",
       "      <td>mm</td>\n",
       "      <td>226968.0</td>\n",
       "    </tr>\n",
       "    <tr>\n",
       "      <th>...</th>\n",
       "      <td>...</td>\n",
       "      <td>...</td>\n",
       "      <td>...</td>\n",
       "      <td>...</td>\n",
       "      <td>...</td>\n",
       "      <td>...</td>\n",
       "      <td>...</td>\n",
       "      <td>...</td>\n",
       "      <td>...</td>\n",
       "    </tr>\n",
       "    <tr>\n",
       "      <th>97431</th>\n",
       "      <td>Warhol, Andy</td>\n",
       "      <td>“The Runaway Pigeon”</td>\n",
       "      <td>Ink on paper on ink on paper</td>\n",
       "      <td>1953.0</td>\n",
       "      <td>2009.0</td>\n",
       "      <td>280.0</td>\n",
       "      <td>205.0</td>\n",
       "      <td>mm</td>\n",
       "      <td>57400.0</td>\n",
       "    </tr>\n",
       "    <tr>\n",
       "      <th>97408</th>\n",
       "      <td>Warhol, Andy</td>\n",
       "      <td>“The Runaway Pigeon”</td>\n",
       "      <td>Ink, watercolour and graphite on paper</td>\n",
       "      <td>1953.0</td>\n",
       "      <td>2009.0</td>\n",
       "      <td>269.0</td>\n",
       "      <td>295.0</td>\n",
       "      <td>mm</td>\n",
       "      <td>79355.0</td>\n",
       "    </tr>\n",
       "    <tr>\n",
       "      <th>97409</th>\n",
       "      <td>Warhol, Andy</td>\n",
       "      <td>“The Runaway Pigeon”</td>\n",
       "      <td>Ink, watercolour and graphite on paper</td>\n",
       "      <td>1953.0</td>\n",
       "      <td>2009.0</td>\n",
       "      <td>272.0</td>\n",
       "      <td>237.0</td>\n",
       "      <td>mm</td>\n",
       "      <td>64464.0</td>\n",
       "    </tr>\n",
       "    <tr>\n",
       "      <th>97428</th>\n",
       "      <td>Warhol, Andy</td>\n",
       "      <td>“The Summer Dancers”</td>\n",
       "      <td>Ink and dye on paper</td>\n",
       "      <td>1955.0</td>\n",
       "      <td>2009.0</td>\n",
       "      <td>215.0</td>\n",
       "      <td>145.0</td>\n",
       "      <td>mm</td>\n",
       "      <td>31175.0</td>\n",
       "    </tr>\n",
       "    <tr>\n",
       "      <th>97427</th>\n",
       "      <td>Warhol, Andy</td>\n",
       "      <td>“The Summer Dancers”</td>\n",
       "      <td>Ink and dye on paper on ink on paper</td>\n",
       "      <td>1955.0</td>\n",
       "      <td>2009.0</td>\n",
       "      <td>226.0</td>\n",
       "      <td>319.0</td>\n",
       "      <td>mm</td>\n",
       "      <td>72094.0</td>\n",
       "    </tr>\n",
       "  </tbody>\n",
       "</table>\n",
       "<p>31210 rows × 9 columns</p>\n",
       "</div>"
      ],
      "text/plain": [
       "                artist                 title  \\\n",
       "id                                             \n",
       "20571     Scully, Sean                    #1   \n",
       "21345  Dunham, Carroll                    #1   \n",
       "21346  Dunham, Carroll                    #2   \n",
       "20572     Scully, Sean                    #2   \n",
       "21347  Dunham, Carroll                    #3   \n",
       "...                ...                   ...   \n",
       "97431     Warhol, Andy  “The Runaway Pigeon”   \n",
       "97408     Warhol, Andy  “The Runaway Pigeon”   \n",
       "97409     Warhol, Andy  “The Runaway Pigeon”   \n",
       "97428     Warhol, Andy  “The Summer Dancers”   \n",
       "97427     Warhol, Andy  “The Summer Dancers”   \n",
       "\n",
       "                                       medium    year  acquisitionYear  width  \\\n",
       "id                                                                              \n",
       "20571                       Aquatint on paper  1992.0           1992.0  117.0   \n",
       "21345                       Drypoint on paper  1989.0           2002.0  392.0   \n",
       "21346                       Drypoint on paper  1989.0           2002.0  392.0   \n",
       "20572                       Aquatint on paper  1992.0           1992.0  323.0   \n",
       "21347                       Drypoint on paper  1989.0           2002.0  392.0   \n",
       "...                                       ...     ...              ...    ...   \n",
       "97431            Ink on paper on ink on paper  1953.0           2009.0  280.0   \n",
       "97408  Ink, watercolour and graphite on paper  1953.0           2009.0  269.0   \n",
       "97409  Ink, watercolour and graphite on paper  1953.0           2009.0  272.0   \n",
       "97428                    Ink and dye on paper  1955.0           2009.0  215.0   \n",
       "97427    Ink and dye on paper on ink on paper  1955.0           2009.0  226.0   \n",
       "\n",
       "       height units      area  \n",
       "id                             \n",
       "20571   174.0    mm   20358.0  \n",
       "21345   579.0    mm  226968.0  \n",
       "21346   579.0    mm  226968.0  \n",
       "20572   278.0    mm   89794.0  \n",
       "21347   579.0    mm  226968.0  \n",
       "...       ...   ...       ...  \n",
       "97431   205.0    mm   57400.0  \n",
       "97408   295.0    mm   79355.0  \n",
       "97409   237.0    mm   64464.0  \n",
       "97428   145.0    mm   31175.0  \n",
       "97427   319.0    mm   72094.0  \n",
       "\n",
       "[31210 rows x 9 columns]"
      ]
     },
     "execution_count": 47,
     "metadata": {},
     "output_type": "execute_result"
    }
   ],
   "source": [
    "#filter\n",
    "grouped_titles = df.groupby('title')\n",
    "title_counts = grouped_titles.size().sort_values(ascending=False)\n",
    "\n",
    "condition = lambda x: len(x.index) >1\n",
    "dup_title_df = grouped_titles.filter(condition)\n",
    "dup_title_df.sort_values('title', inplace=True)\n",
    "dup_title_df"
   ]
  },
  {
   "cell_type": "code",
   "execution_count": 48,
   "id": "f1e9e7de",
   "metadata": {},
   "outputs": [],
   "source": [
    "# output the data to excel, sql, json\n",
    "small_df.to_excel('basic.xlsx')\n",
    "small_df.to_excel('no_index.xlsx', index=False)\n",
    "small_df.to_excel('columns.xlsx', columns=['artist', 'title', 'year'])\n"
   ]
  },
  {
   "cell_type": "code",
   "execution_count": 49,
   "id": "1aabb5db",
   "metadata": {},
   "outputs": [
    {
     "name": "stderr",
     "output_type": "stream",
     "text": [
      "C:\\Users\\wuamy\\AppData\\Local\\Temp\\ipykernel_13704\\2097828610.py:5: FutureWarning: save is not part of the public API, usage can give in unexpected results and will be removed in a future version\n",
      "  writer.save()\n"
     ]
    }
   ],
   "source": [
    "# multiple worksheets\n",
    "writer = pd.ExcelWriter('multiple_sheets.xlsx', engine='xlsxwriter')\n",
    "small_df.to_excel(writer, sheet_name='Preview', index= False)\n",
    "df.to_excel(writer, sheet_name='Complete', index=False)\n",
    "writer.save()"
   ]
  },
  {
   "cell_type": "code",
   "execution_count": 50,
   "id": "944ec49c",
   "metadata": {},
   "outputs": [
    {
     "name": "stderr",
     "output_type": "stream",
     "text": [
      "C:\\Users\\wuamy\\AppData\\Local\\Temp\\ipykernel_13704\\1418458492.py:14: FutureWarning: save is not part of the public API, usage can give in unexpected results and will be removed in a future version\n",
      "  writer.save()\n"
     ]
    }
   ],
   "source": [
    "# conditional formatting\n",
    "artist_counts = df['artist'].value_counts()\n",
    "artist_counts.head()\n",
    "writer = pd.ExcelWriter('colors.xlsx', engine='xlsxwriter')\n",
    "artist_counts.to_excel(writer, sheet_name='Artist Counts')\n",
    "sheet = writer.sheets['Artist Counts']\n",
    "cells_range = 'B2:B{}'.format(len(artist_counts.index))\n",
    "sheet.conditional_format(cells_range, {'type': '2_color_scale',\n",
    "                                      'min_value': '10',\n",
    "                                      'min_type': 'percentile',\n",
    "                                      'max_value': '99',\n",
    "                                      'max_type': 'percentitle'})\n",
    "\n",
    "writer.save()"
   ]
  },
  {
   "cell_type": "code",
   "execution_count": 51,
   "id": "4394a6fe",
   "metadata": {},
   "outputs": [],
   "source": [
    "# SQL\n",
    "import sqlite3\n",
    "\n",
    "with sqlite3.connect('my_database.db') as conn:\n",
    "    small_df.to_sql('Tate', conn)"
   ]
  },
  {
   "cell_type": "code",
   "execution_count": 52,
   "id": "8a8f1c6b",
   "metadata": {},
   "outputs": [],
   "source": [
    "# JSON\n",
    "small_df.to_json('default.json')\n",
    "small_df.to_json('table.json', orient='table')"
   ]
  },
  {
   "cell_type": "code",
   "execution_count": 53,
   "id": "821dca0a",
   "metadata": {},
   "outputs": [
    {
     "data": {
      "text/plain": [
       "<AxesSubplot: xlabel='acquisitionYear'>"
      ]
     },
     "execution_count": 53,
     "metadata": {},
     "output_type": "execute_result"
    },
    {
     "data": {
      "image/png": "[encoded data removed]",
      "text/plain": [
       "<Figure size 640x480 with 1 Axes>"
      ]
     },
     "metadata": {},
     "output_type": "display_data"
    }
   ],
   "source": [
    "# plotting\n",
    "acquisition_years = df.groupby('acquisitionYear').size()\n",
    "acquisition_years.plot()\n"
   ]
  },
  {
   "cell_type": "code",
   "execution_count": 54,
   "id": "ac86bab9",
   "metadata": {},
   "outputs": [
    {
     "data": {
      "text/plain": [
       "acquisitionYear\n",
       "1823.0    1\n",
       "1824.0    2\n",
       "1826.0    4\n",
       "1827.0    1\n",
       "1828.0    3\n",
       "dtype: int64"
      ]
     },
     "execution_count": 54,
     "metadata": {},
     "output_type": "execute_result"
    }
   ],
   "source": [
    "acquisition_years.head()"
   ]
  },
  {
   "cell_type": "code",
   "execution_count": 61,
   "id": "3f142187",
   "metadata": {},
   "outputs": [
    {
     "name": "stderr",
     "output_type": "stream",
     "text": [
      "C:\\Users\\wuamy\\AppData\\Local\\Temp\\ipykernel_13704\\3874988359.py:13: UserWarning: Matplotlib is currently using module://matplotlib_inline.backend_inline, which is a non-GUI backend, so cannot show the figure.\n",
      "  fig.show()\n"
     ]
    },
    {
     "data": {
      "image/png": "[encoded data removed]",
      "text/plain": [
       "<Figure size 640x480 with 1 Axes>"
      ]
     },
     "metadata": {},
     "output_type": "display_data"
    }
   ],
   "source": [
    "# start using matplotlib\n",
    "import matplotlib.pyplot as plt\n",
    "from matplotlib import rcParams\n",
    "rcParams.update({'figure.autolayout': True,\n",
    "                'axes.titlepad':20})\n",
    "\n",
    "fig = plt.figure()\n",
    "subplot = fig.add_subplot(1,1,1)\n",
    "acquisition_years.plot(ax=subplot, rot=45, logy=True, grid=True)\n",
    "subplot.set_xlabel('Acquisition Year')\n",
    "subplot.set_ylabel('Artworks Acquired')\n",
    "subplot.locator_params(nbins=40, axis='x')\n",
    "fig.show()"
   ]
  },
  {
   "cell_type": "code",
   "execution_count": 62,
   "id": "91f9846a",
   "metadata": {},
   "outputs": [],
   "source": [
    "# save to files\n",
    "fig.savefig('plot.png')\n",
    "fig.savefig('plot.svg', format='svg')"
   ]
  },
  {
   "cell_type": "code",
   "execution_count": null,
   "id": "a00b6531",
   "metadata": {},
   "outputs": [],
   "source": []
  }
 ],
 "metadata": {
  "kernelspec": {
   "display_name": "Python 3 (ipykernel)",
   "language": "python",
   "name": "python3"
  },
  "language_info": {
   "codemirror_mode": {
    "name": "ipython",
    "version": 3
   },
   "file_extension": ".py",
   "mimetype": "text/x-python",
   "name": "python",
   "nbconvert_exporter": "python",
   "pygments_lexer": "ipython3",
   "version": "3.10.7"
  }
 },
 "nbformat": 4,
 "nbformat_minor": 5
}
