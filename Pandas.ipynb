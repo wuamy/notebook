{
 "cells": [
  {
   "cell_type": "code",
   "execution_count": 1,
   "id": "eb8701b1",
   "metadata": {},
   "outputs": [],
   "source": [
    "import numpy as np"
   ]
  },
  {
   "cell_type": "code",
   "execution_count": 2,
   "id": "c2c1d429",
   "metadata": {},
   "outputs": [],
   "source": [
    "my_numpy_array = np.random.rand(3)"
   ]
  },
  {
   "cell_type": "code",
   "execution_count": 3,
   "id": "7a0c2c3e",
   "metadata": {},
   "outputs": [
    {
     "data": {
      "text/plain": [
       "numpy.ndarray"
      ]
     },
     "execution_count": 3,
     "metadata": {},
     "output_type": "execute_result"
    }
   ],
   "source": [
    "type(my_numpy_array)"
   ]
  },
  {
   "cell_type": "code",
   "execution_count": 4,
   "id": "6e4a7465",
   "metadata": {},
   "outputs": [
    {
     "data": {
      "text/plain": [
       "0.8182681414214593"
      ]
     },
     "execution_count": 4,
     "metadata": {},
     "output_type": "execute_result"
    }
   ],
   "source": [
    "my_numpy_array[0]"
   ]
  },
  {
   "cell_type": "code",
   "execution_count": 5,
   "id": "c6d96a5f",
   "metadata": {},
   "outputs": [],
   "source": [
    "import pandas as pd"
   ]
  },
  {
   "cell_type": "code",
   "execution_count": 10,
   "id": "c4b7fef0",
   "metadata": {},
   "outputs": [
    {
     "data": {
      "text/plain": [
       "First     0.818268\n",
       "Second    0.306078\n",
       "Third     0.397978\n",
       "dtype: float64"
      ]
     },
     "execution_count": 10,
     "metadata": {},
     "output_type": "execute_result"
    }
   ],
   "source": [
    "my_series = pd.Series(my_numpy_array, index=[\"First\", \"Second\", \"Third\"])\n",
    "my_series"
   ]
  },
  {
   "cell_type": "code",
   "execution_count": 11,
   "id": "988213a1",
   "metadata": {},
   "outputs": [
    {
     "data": {
      "text/plain": [
       "0.8182681414214593"
      ]
     },
     "execution_count": 11,
     "metadata": {},
     "output_type": "execute_result"
    }
   ],
   "source": [
    "my_series[0]"
   ]
  },
  {
   "cell_type": "code",
   "execution_count": 12,
   "id": "449d973c",
   "metadata": {},
   "outputs": [
    {
     "data": {
      "text/plain": [
       "Index(['First', 'Second', 'Third'], dtype='object')"
      ]
     },
     "execution_count": 12,
     "metadata": {},
     "output_type": "execute_result"
    }
   ],
   "source": [
    "my_series.index"
   ]
  },
  {
   "cell_type": "code",
   "execution_count": 13,
   "id": "c328ce77",
   "metadata": {},
   "outputs": [],
   "source": [
    "array_2d = np.random.rand(3,2)"
   ]
  },
  {
   "cell_type": "code",
   "execution_count": 14,
   "id": "facca32f",
   "metadata": {},
   "outputs": [
    {
     "data": {
      "text/plain": [
       "0.9632482871339926"
      ]
     },
     "execution_count": 14,
     "metadata": {},
     "output_type": "execute_result"
    }
   ],
   "source": [
    "array_2d[0,1]"
   ]
  },
  {
   "cell_type": "code",
   "execution_count": 15,
   "id": "26f62594",
   "metadata": {},
   "outputs": [],
   "source": [
    "df = pd.DataFrame(array_2d)"
   ]
  },
  {
   "cell_type": "code",
   "execution_count": 16,
   "id": "c8d60072",
   "metadata": {},
   "outputs": [
    {
     "data": {
      "text/html": [
       "<div>\n",
       "<style scoped>\n",
       "    .dataframe tbody tr th:only-of-type {\n",
       "        vertical-align: middle;\n",
       "    }\n",
       "\n",
       "    .dataframe tbody tr th {\n",
       "        vertical-align: top;\n",
       "    }\n",
       "\n",
       "    .dataframe thead th {\n",
       "        text-align: right;\n",
       "    }\n",
       "</style>\n",
       "<table border=\"1\" class=\"dataframe\">\n",
       "  <thead>\n",
       "    <tr style=\"text-align: right;\">\n",
       "      <th></th>\n",
       "      <th>0</th>\n",
       "      <th>1</th>\n",
       "    </tr>\n",
       "  </thead>\n",
       "  <tbody>\n",
       "    <tr>\n",
       "      <th>0</th>\n",
       "      <td>0.211471</td>\n",
       "      <td>0.963248</td>\n",
       "    </tr>\n",
       "    <tr>\n",
       "      <th>1</th>\n",
       "      <td>0.083730</td>\n",
       "      <td>0.657162</td>\n",
       "    </tr>\n",
       "    <tr>\n",
       "      <th>2</th>\n",
       "      <td>0.294298</td>\n",
       "      <td>0.738567</td>\n",
       "    </tr>\n",
       "  </tbody>\n",
       "</table>\n",
       "</div>"
      ],
      "text/plain": [
       "          0         1\n",
       "0  0.211471  0.963248\n",
       "1  0.083730  0.657162\n",
       "2  0.294298  0.738567"
      ]
     },
     "execution_count": 16,
     "metadata": {},
     "output_type": "execute_result"
    }
   ],
   "source": [
    "df"
   ]
  },
  {
   "cell_type": "code",
   "execution_count": 17,
   "id": "5c80c1b3",
   "metadata": {},
   "outputs": [
    {
     "data": {
      "text/plain": [
       "RangeIndex(start=0, stop=2, step=1)"
      ]
     },
     "execution_count": 17,
     "metadata": {},
     "output_type": "execute_result"
    }
   ],
   "source": [
    "df.columns"
   ]
  },
  {
   "cell_type": "code",
   "execution_count": 18,
   "id": "ee692963",
   "metadata": {},
   "outputs": [],
   "source": [
    "df.columns = [\"First\", \"Second\"]"
   ]
  },
  {
   "cell_type": "code",
   "execution_count": 19,
   "id": "53748770",
   "metadata": {},
   "outputs": [
    {
     "data": {
      "text/html": [
       "<div>\n",
       "<style scoped>\n",
       "    .dataframe tbody tr th:only-of-type {\n",
       "        vertical-align: middle;\n",
       "    }\n",
       "\n",
       "    .dataframe tbody tr th {\n",
       "        vertical-align: top;\n",
       "    }\n",
       "\n",
       "    .dataframe thead th {\n",
       "        text-align: right;\n",
       "    }\n",
       "</style>\n",
       "<table border=\"1\" class=\"dataframe\">\n",
       "  <thead>\n",
       "    <tr style=\"text-align: right;\">\n",
       "      <th></th>\n",
       "      <th>First</th>\n",
       "      <th>Second</th>\n",
       "    </tr>\n",
       "  </thead>\n",
       "  <tbody>\n",
       "    <tr>\n",
       "      <th>0</th>\n",
       "      <td>0.211471</td>\n",
       "      <td>0.963248</td>\n",
       "    </tr>\n",
       "    <tr>\n",
       "      <th>1</th>\n",
       "      <td>0.083730</td>\n",
       "      <td>0.657162</td>\n",
       "    </tr>\n",
       "    <tr>\n",
       "      <th>2</th>\n",
       "      <td>0.294298</td>\n",
       "      <td>0.738567</td>\n",
       "    </tr>\n",
       "  </tbody>\n",
       "</table>\n",
       "</div>"
      ],
      "text/plain": [
       "      First    Second\n",
       "0  0.211471  0.963248\n",
       "1  0.083730  0.657162\n",
       "2  0.294298  0.738567"
      ]
     },
     "execution_count": 19,
     "metadata": {},
     "output_type": "execute_result"
    }
   ],
   "source": [
    "df"
   ]
  },
  {
   "cell_type": "code",
   "execution_count": 20,
   "id": "efc71095",
   "metadata": {},
   "outputs": [
    {
     "data": {
      "text/plain": [
       "0    0.963248\n",
       "1    0.657162\n",
       "2    0.738567\n",
       "Name: Second, dtype: float64"
      ]
     },
     "execution_count": 20,
     "metadata": {},
     "output_type": "execute_result"
    }
   ],
   "source": [
    "df[\"Second\"]"
   ]
  },
  {
   "cell_type": "code",
   "execution_count": 32,
   "id": "43f8f592",
   "metadata": {},
   "outputs": [],
   "source": [
    "# read the first 5 rows\n",
    "#df = pd.read_csv('artwork_data.csv')\n",
    "\n",
    "# All columns we are using\n",
    "COLS_TO_USE = ['id', 'artist',\n",
    "                  'title', 'medium', 'year', 'acquisitionYear', 'height',\n",
    "                  'width', 'units']"
   ]
  },
  {
   "cell_type": "code",
   "execution_count": 44,
   "id": "29084412",
   "metadata": {},
   "outputs": [
    {
     "name": "stderr",
     "output_type": "stream",
     "text": [
      "C:\\Users\\wuamy\\AppData\\Local\\Temp\\ipykernel_21536\\260144216.py:1: DtypeWarning: Columns (9,13) have mixed types. Specify dtype option on import or set low_memory=False.\n",
      "  df=pd.read_csv('artwork_data.csv',index_col='id',\n"
     ]
    },
    {
     "data": {
      "text/html": [
       "<div>\n",
       "<style scoped>\n",
       "    .dataframe tbody tr th:only-of-type {\n",
       "        vertical-align: middle;\n",
       "    }\n",
       "\n",
       "    .dataframe tbody tr th {\n",
       "        vertical-align: top;\n",
       "    }\n",
       "\n",
       "    .dataframe thead th {\n",
       "        text-align: right;\n",
       "    }\n",
       "</style>\n",
       "<table border=\"1\" class=\"dataframe\">\n",
       "  <thead>\n",
       "    <tr style=\"text-align: right;\">\n",
       "      <th></th>\n",
       "      <th>artist</th>\n",
       "      <th>title</th>\n",
       "      <th>medium</th>\n",
       "      <th>year</th>\n",
       "      <th>acquisitionYear</th>\n",
       "      <th>width</th>\n",
       "      <th>height</th>\n",
       "      <th>units</th>\n",
       "    </tr>\n",
       "    <tr>\n",
       "      <th>id</th>\n",
       "      <th></th>\n",
       "      <th></th>\n",
       "      <th></th>\n",
       "      <th></th>\n",
       "      <th></th>\n",
       "      <th></th>\n",
       "      <th></th>\n",
       "      <th></th>\n",
       "    </tr>\n",
       "  </thead>\n",
       "  <tbody>\n",
       "    <tr>\n",
       "      <th>1035</th>\n",
       "      <td>Blake, Robert</td>\n",
       "      <td>A Figure Bowing before a Seated Old Man with h...</td>\n",
       "      <td>Watercolour, ink, chalk and graphite on paper....</td>\n",
       "      <td>NaN</td>\n",
       "      <td>1922.0</td>\n",
       "      <td>394</td>\n",
       "      <td>419.0</td>\n",
       "      <td>mm</td>\n",
       "    </tr>\n",
       "    <tr>\n",
       "      <th>1036</th>\n",
       "      <td>Blake, Robert</td>\n",
       "      <td>Two Drawings of Frightened Figures, Probably f...</td>\n",
       "      <td>Graphite on paper</td>\n",
       "      <td>NaN</td>\n",
       "      <td>1922.0</td>\n",
       "      <td>311</td>\n",
       "      <td>213.0</td>\n",
       "      <td>mm</td>\n",
       "    </tr>\n",
       "    <tr>\n",
       "      <th>1037</th>\n",
       "      <td>Blake, Robert</td>\n",
       "      <td>The Preaching of Warning. Verso: An Old Man En...</td>\n",
       "      <td>Graphite on paper. Verso: graphite on paper</td>\n",
       "      <td>1785.0</td>\n",
       "      <td>1922.0</td>\n",
       "      <td>343</td>\n",
       "      <td>467.0</td>\n",
       "      <td>mm</td>\n",
       "    </tr>\n",
       "    <tr>\n",
       "      <th>1038</th>\n",
       "      <td>Blake, Robert</td>\n",
       "      <td>Six Drawings of Figures with Outstretched Arms</td>\n",
       "      <td>Graphite on paper</td>\n",
       "      <td>NaN</td>\n",
       "      <td>1922.0</td>\n",
       "      <td>318</td>\n",
       "      <td>394.0</td>\n",
       "      <td>mm</td>\n",
       "    </tr>\n",
       "    <tr>\n",
       "      <th>1039</th>\n",
       "      <td>Blake, William</td>\n",
       "      <td>The Circle of the Lustful: Francesca da Rimini...</td>\n",
       "      <td>Line engraving on paper</td>\n",
       "      <td>1826.0</td>\n",
       "      <td>1919.0</td>\n",
       "      <td>243</td>\n",
       "      <td>335.0</td>\n",
       "      <td>mm</td>\n",
       "    </tr>\n",
       "    <tr>\n",
       "      <th>...</th>\n",
       "      <td>...</td>\n",
       "      <td>...</td>\n",
       "      <td>...</td>\n",
       "      <td>...</td>\n",
       "      <td>...</td>\n",
       "      <td>...</td>\n",
       "      <td>...</td>\n",
       "      <td>...</td>\n",
       "    </tr>\n",
       "    <tr>\n",
       "      <th>122960</th>\n",
       "      <td>P-Orridge, Genesis</td>\n",
       "      <td>Larvae (from Tampax Romana)</td>\n",
       "      <td>Perspex, Wood, hairpiece, tampon and human blood</td>\n",
       "      <td>1975</td>\n",
       "      <td>2013.0</td>\n",
       "      <td>305</td>\n",
       "      <td>305.0</td>\n",
       "      <td>mm</td>\n",
       "    </tr>\n",
       "    <tr>\n",
       "      <th>122961</th>\n",
       "      <td>P-Orridge, Genesis</td>\n",
       "      <td>Living Womb (from Tampax Romana)</td>\n",
       "      <td>Wood, Perspex, plastic, photograph on paper, t...</td>\n",
       "      <td>1976</td>\n",
       "      <td>2013.0</td>\n",
       "      <td>305</td>\n",
       "      <td>305.0</td>\n",
       "      <td>mm</td>\n",
       "    </tr>\n",
       "    <tr>\n",
       "      <th>121181</th>\n",
       "      <td>Hatoum, Mona</td>\n",
       "      <td>Present Tense</td>\n",
       "      <td>Soap and glass beads</td>\n",
       "      <td>1996</td>\n",
       "      <td>2013.0</td>\n",
       "      <td>45</td>\n",
       "      <td>2410.0</td>\n",
       "      <td>mm</td>\n",
       "    </tr>\n",
       "    <tr>\n",
       "      <th>112306</th>\n",
       "      <td>Creed, Martin</td>\n",
       "      <td>Work No. 227: The lights going on and off</td>\n",
       "      <td>Gallery lighting</td>\n",
       "      <td>2000</td>\n",
       "      <td>2013.0</td>\n",
       "      <td>NaN</td>\n",
       "      <td>NaN</td>\n",
       "      <td>NaN</td>\n",
       "    </tr>\n",
       "    <tr>\n",
       "      <th>127035</th>\n",
       "      <td>Brunias, Agostino</td>\n",
       "      <td>Dancing Scene in the West Indies</td>\n",
       "      <td>Oil paint on canvas</td>\n",
       "      <td>1764</td>\n",
       "      <td>2013.0</td>\n",
       "      <td>508</td>\n",
       "      <td>660.0</td>\n",
       "      <td>mm</td>\n",
       "    </tr>\n",
       "  </tbody>\n",
       "</table>\n",
       "<p>69201 rows × 8 columns</p>\n",
       "</div>"
      ],
      "text/plain": [
       "                    artist                                              title  \\\n",
       "id                                                                              \n",
       "1035         Blake, Robert  A Figure Bowing before a Seated Old Man with h...   \n",
       "1036         Blake, Robert  Two Drawings of Frightened Figures, Probably f...   \n",
       "1037         Blake, Robert  The Preaching of Warning. Verso: An Old Man En...   \n",
       "1038         Blake, Robert     Six Drawings of Figures with Outstretched Arms   \n",
       "1039        Blake, William  The Circle of the Lustful: Francesca da Rimini...   \n",
       "...                    ...                                                ...   \n",
       "122960  P-Orridge, Genesis                        Larvae (from Tampax Romana)   \n",
       "122961  P-Orridge, Genesis                   Living Womb (from Tampax Romana)   \n",
       "121181        Hatoum, Mona                                      Present Tense   \n",
       "112306       Creed, Martin          Work No. 227: The lights going on and off   \n",
       "127035   Brunias, Agostino                   Dancing Scene in the West Indies   \n",
       "\n",
       "                                                   medium    year  \\\n",
       "id                                                                  \n",
       "1035    Watercolour, ink, chalk and graphite on paper....     NaN   \n",
       "1036                                    Graphite on paper     NaN   \n",
       "1037          Graphite on paper. Verso: graphite on paper  1785.0   \n",
       "1038                                    Graphite on paper     NaN   \n",
       "1039                              Line engraving on paper  1826.0   \n",
       "...                                                   ...     ...   \n",
       "122960   Perspex, Wood, hairpiece, tampon and human blood    1975   \n",
       "122961  Wood, Perspex, plastic, photograph on paper, t...    1976   \n",
       "121181                               Soap and glass beads    1996   \n",
       "112306                                   Gallery lighting    2000   \n",
       "127035                                Oil paint on canvas    1764   \n",
       "\n",
       "        acquisitionYear width  height units  \n",
       "id                                           \n",
       "1035             1922.0   394   419.0    mm  \n",
       "1036             1922.0   311   213.0    mm  \n",
       "1037             1922.0   343   467.0    mm  \n",
       "1038             1922.0   318   394.0    mm  \n",
       "1039             1919.0   243   335.0    mm  \n",
       "...                 ...   ...     ...   ...  \n",
       "122960           2013.0   305   305.0    mm  \n",
       "122961           2013.0   305   305.0    mm  \n",
       "121181           2013.0    45  2410.0    mm  \n",
       "112306           2013.0   NaN     NaN   NaN  \n",
       "127035           2013.0   508   660.0    mm  \n",
       "\n",
       "[69201 rows x 8 columns]"
      ]
     },
     "execution_count": 44,
     "metadata": {},
     "output_type": "execute_result"
    }
   ],
   "source": [
    "df=pd.read_csv('artwork_data.csv',index_col='id',\n",
    "                usecols=COLS_TO_USE)\n",
    "df"
   ]
  },
  {
   "cell_type": "code",
   "execution_count": 36,
   "id": "5cda9596",
   "metadata": {},
   "outputs": [],
   "source": [
    "import json"
   ]
  },
  {
   "cell_type": "code",
   "execution_count": 37,
   "id": "e4f64962",
   "metadata": {},
   "outputs": [
    {
     "data": {
      "text/html": [
       "<div>\n",
       "<style scoped>\n",
       "    .dataframe tbody tr th:only-of-type {\n",
       "        vertical-align: middle;\n",
       "    }\n",
       "\n",
       "    .dataframe tbody tr th {\n",
       "        vertical-align: top;\n",
       "    }\n",
       "\n",
       "    .dataframe thead th {\n",
       "        text-align: right;\n",
       "    }\n",
       "</style>\n",
       "<table border=\"1\" class=\"dataframe\">\n",
       "  <thead>\n",
       "    <tr style=\"text-align: right;\">\n",
       "      <th></th>\n",
       "      <th>Coffee</th>\n",
       "      <th>Price</th>\n",
       "    </tr>\n",
       "  </thead>\n",
       "  <tbody>\n",
       "    <tr>\n",
       "      <th>0</th>\n",
       "      <td>Espresso</td>\n",
       "      <td>5$</td>\n",
       "    </tr>\n",
       "    <tr>\n",
       "      <th>1</th>\n",
       "      <td>Flat White</td>\n",
       "      <td>10$</td>\n",
       "    </tr>\n",
       "  </tbody>\n",
       "</table>\n",
       "</div>"
      ],
      "text/plain": [
       "       Coffee Price\n",
       "0    Espresso    5$\n",
       "1  Flat White   10$"
      ]
     },
     "execution_count": 37,
     "metadata": {},
     "output_type": "execute_result"
    }
   ],
   "source": [
    "#example usage of from_records method\n",
    "records = [(\"Espresso\", '5$'),\n",
    "          (\"Flat White\", \"10$\")]\n",
    "pd.DataFrame.from_records(records)\n",
    "pd.DataFrame.from_records(records,\n",
    "                         columns=[\"Coffee\", \"Price\"])\n"
   ]
  },
  {
   "cell_type": "code",
   "execution_count": 41,
   "id": "9a9f1eb4",
   "metadata": {},
   "outputs": [],
   "source": [
    "# import json \n",
    "KEYS_TO_USE = ['id', 'all_artists',\n",
    "                  'title', 'medium', 'dateText', 'acquisitionYear', 'height',\n",
    "                  'width', 'units']\n",
    "def get_record_from_file(file_path, KEYS_TO_USE):\n",
    "    with open(file_path) as artwork_file:\n",
    "        content = json.load(artwork_file)\n",
    "    \n",
    "    record = []\n",
    "    for field in KEYS_TO_USE:\n",
    "        record.append(content[field])\n",
    "    return tuple(record)\n",
    "\n",
    "# single file processing\n",
    "sample_record = get_record_from_file('a00001-1035.json', KEYS_TO_USE)"
   ]
  },
  {
   "cell_type": "code",
   "execution_count": 43,
   "id": "09311da0",
   "metadata": {},
   "outputs": [
    {
     "data": {
      "text/plain": [
       "(1035,\n",
       " 'Robert Blake',\n",
       " 'A Figure Bowing before a Seated Old Man with his Arm Outstretched in Benediction. Verso: Indecipherable Sketch',\n",
       " 'Watercolour, ink, chalk and graphite on paper. Verso: graphite on paper',\n",
       " 'date not known',\n",
       " 1922,\n",
       " '419',\n",
       " '394',\n",
       " 'mm')"
      ]
     },
     "execution_count": 43,
     "metadata": {},
     "output_type": "execute_result"
    }
   ],
   "source": [
    "sample_record"
   ]
  },
  {
   "cell_type": "code",
   "execution_count": 48,
   "id": "bd0bbb57",
   "metadata": {},
   "outputs": [
    {
     "data": {
      "text/plain": [
       "3336"
      ]
     },
     "execution_count": 48,
     "metadata": {},
     "output_type": "execute_result"
    }
   ],
   "source": [
    "# Demo1\n",
    "df.artist\n",
    "artists = df['artist']\n",
    "pd.unique(artists)\n",
    "len(pd.unique(artists))"
   ]
  },
  {
   "cell_type": "code",
   "execution_count": 50,
   "id": "4b3ab312",
   "metadata": {},
   "outputs": [
    {
     "data": {
      "text/plain": [
       "False    69151\n",
       "True        50\n",
       "Name: artist, dtype: int64"
      ]
     },
     "execution_count": 50,
     "metadata": {},
     "output_type": "execute_result"
    }
   ],
   "source": [
    "# demo 2\n",
    "s = df['artist']=='Bacon, Francis'\n",
    "s.value_counts()"
   ]
  },
  {
   "cell_type": "code",
   "execution_count": 51,
   "id": "2ee591f2",
   "metadata": {},
   "outputs": [
    {
     "data": {
      "text/plain": [
       "50"
      ]
     },
     "execution_count": 51,
     "metadata": {},
     "output_type": "execute_result"
    }
   ],
   "source": [
    "# other way\n",
    "artist_counts = df['artist'].value_counts()\n",
    "artist_counts['Bacon, Francis']"
   ]
  },
  {
   "cell_type": "code",
   "execution_count": 59,
   "id": "62f70971",
   "metadata": {},
   "outputs": [
    {
     "data": {
      "text/html": [
       "<div>\n",
       "<style scoped>\n",
       "    .dataframe tbody tr th:only-of-type {\n",
       "        vertical-align: middle;\n",
       "    }\n",
       "\n",
       "    .dataframe tbody tr th {\n",
       "        vertical-align: top;\n",
       "    }\n",
       "\n",
       "    .dataframe thead th {\n",
       "        text-align: right;\n",
       "    }\n",
       "</style>\n",
       "<table border=\"1\" class=\"dataframe\">\n",
       "  <thead>\n",
       "    <tr style=\"text-align: right;\">\n",
       "      <th></th>\n",
       "      <th>artist</th>\n",
       "      <th>title</th>\n",
       "    </tr>\n",
       "    <tr>\n",
       "      <th>id</th>\n",
       "      <th></th>\n",
       "      <th></th>\n",
       "    </tr>\n",
       "  </thead>\n",
       "  <tbody>\n",
       "    <tr>\n",
       "      <th>1035</th>\n",
       "      <td>Blake, Robert</td>\n",
       "      <td>A Figure Bowing before a Seated Old Man with h...</td>\n",
       "    </tr>\n",
       "    <tr>\n",
       "      <th>1036</th>\n",
       "      <td>Blake, Robert</td>\n",
       "      <td>Two Drawings of Frightened Figures, Probably f...</td>\n",
       "    </tr>\n",
       "  </tbody>\n",
       "</table>\n",
       "</div>"
      ],
      "text/plain": [
       "             artist                                              title\n",
       "id                                                                    \n",
       "1035  Blake, Robert  A Figure Bowing before a Seated Old Man with h...\n",
       "1036  Blake, Robert  Two Drawings of Frightened Figures, Probably f..."
      ]
     },
     "execution_count": 59,
     "metadata": {},
     "output_type": "execute_result"
    }
   ],
   "source": [
    "# demo 3\n",
    "df.loc[1035, 'artist']\n",
    "#df.iloc[0, 0]\n",
    "#df.iloc[0, :]\n",
    "df.iloc[0:2, 0:2]"
   ]
  },
  {
   "cell_type": "code",
   "execution_count": null,
   "id": "134167bd",
   "metadata": {},
   "outputs": [],
   "source": []
  }
 ],
 "metadata": {
  "kernelspec": {
   "display_name": "Python 3 (ipykernel)",
   "language": "python",
   "name": "python3"
  },
  "language_info": {
   "codemirror_mode": {
    "name": "ipython",
    "version": 3
   },
   "file_extension": ".py",
   "mimetype": "text/x-python",
   "name": "python",
   "nbconvert_exporter": "python",
   "pygments_lexer": "ipython3",
   "version": "3.10.7"
  }
 },
 "nbformat": 4,
 "nbformat_minor": 5
}
